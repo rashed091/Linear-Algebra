{
 "cells": [
  {
   "cell_type": "code",
   "execution_count": 8,
   "metadata": {},
   "outputs": [],
   "source": [
    "import numpy as np\n",
    "from scipy import linalg\n",
    "import pandas as pd\n",
    "import helper as helper\n",
    "import matplotlib.pyplot as plt"
   ]
  },
  {
   "cell_type": "markdown",
   "metadata": {},
   "source": [
    "# Systems of Linear Equations\n",
    "ystems of linear equations play a central part of linear algebra. Many\n",
    "problems can be formulated as systems of linear equations, and linear\n",
    "algebra gives us the tools for solving them.\n",
    "\n",
    "#### Example\n",
    "A company produces products $N_1, . . . , N_n$ for which resources\n",
    "$R_1 , . . . , R_m$ are required. To produce a unit of product $N_j , a_{ij}$ units of\n",
    "resource $R_i$ are needed, where $i = 1, . . . , m$ and $j = 1, . . . , n$.\n",
    "The objective is to find an optimal production plan, i.e., a plan of how\n",
    "many units $x_j$ of product $N_j$ should be produced if a total of $b_i$ units of\n",
    "resource $R_i$ are available and (ideally) no resources are left over.\n",
    "If we produce $x_1 , . . . , x_n$ units of the corresponding products, we need a total of\n",
    "\n",
    "$$a_{i1} x_1 + · · · + a_{in} x_n$$\n",
    "\n",
    "many units of resource $R_i$. An optimal production plan $(x_1 , . . . , x_n) ∈ R_n$, therefore, has to satisfy the following system of equations\n",
    "\n",
    "$$\n",
    "a_{11} x_1 + · · · + a_{1n} x_n = b_1\\\\\n",
    "a_{m1} x_1 + · · · + a_{mn} x_n = b_m\n",
    "$$\n",
    "\n",
    "where $a_{ij} ∈ R$ and $b_i ∈ R$."
   ]
  },
  {
   "cell_type": "markdown",
   "metadata": {},
   "source": [
    "* A system of linear equations has\n",
    "    1. no solution, or\n",
    "    2. exactly one solution, or\n",
    "    3. infinitely many solutions.\n",
    "\n",
    "* A system of linear equations is said to be _consistent_ if it has either one solution or infinitely many solutions.\n",
    "* A system of linear equations is said to be _inconsistent_ if it has no solution.\n",
    "* The set of all possible solutions is called the _solution set_ of the linear system. \n",
    "* Two linear systems are called _equivalent_ if they have the same solution set. \n",
    "\n",
    "## The Geometry of Linear Equations\n",
    "Any list of numbers $(s_1, s_2, \\dots, s_n)$ can be thought of as a point in $n$-dimensional space, called a _vector space_.\n",
    "\n",
    "We call that vector space $\\mathbb{R}^n$.\n",
    "\n",
    "So if we are considering linear equations with $n$ unknowns, the solutions are points in $\\mathbb{R}^n$.\n",
    "\n",
    "Now, any linear equation defines a point set with dimension one less than the space.  For example:\n",
    "\n",
    "* if we are in 2-space (2 unknowns), a linear equation defines a line.\n",
    "* if we are in 3-space (3 unknowns), a linear equation defines a plane.\n",
    "* in higher dimensions, we refer to all such sets as _hyperplanes._\n",
    "\n",
    "An illustration is given below: \n",
    "\n",
    "$$\n",
    "4 x_1 + 4 x_2 = 5\\\\\n",
    "2 x_1 − 4 x_2 = 1 \n",
    "$$\n"
   ]
  },
  {
   "cell_type": "code",
   "execution_count": 9,
   "metadata": {},
   "outputs": [
    {
     "data": {
      "text/plain": [
       "<matplotlib.legend.Legend at 0x7f26739da890>"
      ]
     },
     "execution_count": 9,
     "metadata": {},
     "output_type": "execute_result"
    },
    {
     "data": {
      "image/png": "[encoded data removed]",
      "text/plain": [
       "<Figure size 432x288 with 1 Axes>"
      ]
     },
     "metadata": {
      "needs_background": "light"
     },
     "output_type": "display_data"
    }
   ],
   "source": [
    "fig = helper.TwoDFigure('Figure 1.1')\n",
    "fig.centerAxes()\n",
    "fig.plotLinEqn(4, 4, 5)\n",
    "fig.plotLinEqn(2, -4, 1)\n",
    "plt.legend(loc='best')"
   ]
  },
  {
   "cell_type": "code",
   "execution_count": 25,
   "metadata": {},
   "outputs": [],
   "source": [
    "A = np.array([[1, 2], [3, 4]])\n",
    "b = np.array([[5], [6]])"
   ]
  },
  {
   "cell_type": "code",
   "execution_count": 26,
   "metadata": {},
   "outputs": [
    {
     "data": {
      "text/plain": [
       "array([[-4. ],\n",
       "       [ 4.5]])"
      ]
     },
     "execution_count": 26,
     "metadata": {},
     "output_type": "execute_result"
    }
   ],
   "source": [
    "linalg.solve(A, b)"
   ]
  },
  {
   "cell_type": "code",
   "execution_count": 28,
   "metadata": {},
   "outputs": [
    {
     "data": {
      "text/plain": [
       "array([[0.],\n",
       "       [0.]])"
      ]
     },
     "execution_count": 28,
     "metadata": {},
     "output_type": "execute_result"
    }
   ],
   "source": [
    "A.dot(linalg.solve(A, b)) - b"
   ]
  },
  {
   "cell_type": "code",
   "execution_count": 30,
   "metadata": {},
   "outputs": [
    {
     "data": {
      "text/plain": [
       "array([[-2. ,  1. ],\n",
       "       [ 1.5, -0.5]])"
      ]
     },
     "execution_count": 30,
     "metadata": {},
     "output_type": "execute_result"
    }
   ],
   "source": [
    "linalg.inv(A)"
   ]
  },
  {
   "cell_type": "code",
   "execution_count": 31,
   "metadata": {},
   "outputs": [
    {
     "data": {
      "text/plain": [
       "array([[-4. ],\n",
       "       [ 4.5]])"
      ]
     },
     "execution_count": 31,
     "metadata": {},
     "output_type": "execute_result"
    }
   ],
   "source": [
    "linalg.inv(A).dot(b)"
   ]
  },
  {
   "cell_type": "code",
   "execution_count": 32,
   "metadata": {},
   "outputs": [
    {
     "data": {
      "text/plain": [
       "array([[0.],\n",
       "       [0.]])"
      ]
     },
     "execution_count": 32,
     "metadata": {},
     "output_type": "execute_result"
    }
   ],
   "source": [
    "A.dot(linalg.inv(A).dot(b)) - b"
   ]
  },
  {
   "cell_type": "markdown",
   "metadata": {},
   "source": [
    "# Matrices\n",
    "\n",
    "The essential information of a linear system can be recorded compactly in a rectangular array called a __matrix.__\n",
    "For the following system of equations, \n",
    "$$\n",
    "\\begin{array}{rcr}\n",
    "    x_1 - 2x_2 +x_3 &=& 5\\\\\n",
    "    2x_2 - 8x_3 &=& -4\\\\\n",
    "    6x_1 +5x_2 +9x_3 &=& -4\n",
    "\\end{array}\n",
    "$$   \n",
    "\n",
    "the matrix                             \n",
    "\n",
    "$$\\left[\\begin{array}{rrr}\n",
    "    1  & -2  & 1 \\\\\n",
    "    0 & 2 &  - 8 \\\\\n",
    "    6 & 5 &9 \n",
    "\\end{array}\n",
    "\\right]$$\n",
    "\n",
    "is called the _coefficient matrix_ of the system.\n",
    "\n",
    "An __augmented matrix__ of a system consists of the coefficient matrix with an added column containing the constants from the right sides of the equations.\n",
    "\n",
    "For the same system of equations,\n",
    "$$\n",
    "\\begin{array}{rcr}\n",
    "    x_1 - 2x_2 +x_3 &=& 5\\\\\n",
    "    2x_2 - 8x_3 &=& -4\\\\\n",
    "    6x_1 +5x_2 +9x_3 &=& -4\n",
    "\\end{array}\n",
    "$$                     \n",
    "\n",
    "the matrix                             \n",
    "\n",
    "$$\\left[\\begin{array}{rrrr}\n",
    "    1  & -2  & 1 & 5\\\\\n",
    "    0 & 2 &  - 8 & -4\\\\\n",
    "    6 & 5 &9 & -4\n",
    "\\end{array}\n",
    "\\right]$$\n",
    "\n",
    "is called the _augmented matrix_ of the system.   "
   ]
  },
  {
   "cell_type": "markdown",
   "metadata": {},
   "source": [
    "### Matrix Addition and Multiplication"
   ]
  },
  {
   "cell_type": "code",
   "execution_count": 13,
   "metadata": {},
   "outputs": [
    {
     "data": {
      "text/plain": [
       "array([[2, 4],\n",
       "       [4, 6]])"
      ]
     },
     "execution_count": 13,
     "metadata": {},
     "output_type": "execute_result"
    }
   ],
   "source": [
    "M = np.array([[1, 2],[2, 3]])\n",
    "N = np.array([[1, 2],[2, 3]])\n",
    "\n",
    "M + N"
   ]
  },
  {
   "cell_type": "code",
   "execution_count": 11,
   "metadata": {},
   "outputs": [],
   "source": [
    "A = np.array([[1, 2, 3],[3, 2, 1]])\n",
    "B = np.array([[0, 2],[1, -1], [0, 1]])"
   ]
  },
  {
   "cell_type": "code",
   "execution_count": 12,
   "metadata": {},
   "outputs": [
    {
     "data": {
      "text/plain": [
       "array([[2, 3],\n",
       "       [2, 5]])"
      ]
     },
     "execution_count": 12,
     "metadata": {},
     "output_type": "execute_result"
    }
   ],
   "source": [
    "A.dot(B)"
   ]
  },
  {
   "cell_type": "markdown",
   "metadata": {},
   "source": [
    "### Inverse and Transpose"
   ]
  },
  {
   "cell_type": "code",
   "execution_count": 20,
   "metadata": {},
   "outputs": [],
   "source": [
    "A = np.array([[1,3,5],[2,5,1],[2,3,8]])"
   ]
  },
  {
   "cell_type": "code",
   "execution_count": 21,
   "metadata": {},
   "outputs": [
    {
     "data": {
      "text/plain": [
       "array([[-1.48,  0.36,  0.88],\n",
       "       [ 0.56,  0.08, -0.36],\n",
       "       [ 0.16, -0.12,  0.04]])"
      ]
     },
     "execution_count": 21,
     "metadata": {},
     "output_type": "execute_result"
    }
   ],
   "source": [
    "linalg.inv(A)"
   ]
  },
  {
   "cell_type": "code",
   "execution_count": 22,
   "metadata": {},
   "outputs": [
    {
     "data": {
      "text/plain": [
       "array([[-1.48,  0.36,  0.88],\n",
       "       [ 0.56,  0.08, -0.36],\n",
       "       [ 0.16, -0.12,  0.04]])"
      ]
     },
     "execution_count": 22,
     "metadata": {},
     "output_type": "execute_result"
    }
   ],
   "source": [
    "B = linalg.inv(A)\n",
    "B"
   ]
  },
  {
   "cell_type": "code",
   "execution_count": 23,
   "metadata": {},
   "outputs": [
    {
     "data": {
      "text/plain": [
       "array([[ 1.00000000e+00, -1.11022302e-16,  4.85722573e-17],\n",
       "       [ 3.05311332e-16,  1.00000000e+00,  7.63278329e-17],\n",
       "       [ 2.22044605e-16, -1.11022302e-16,  1.00000000e+00]])"
      ]
     },
     "execution_count": 23,
     "metadata": {},
     "output_type": "execute_result"
    }
   ],
   "source": [
    "A.dot(B)"
   ]
  },
  {
   "cell_type": "code",
   "execution_count": 24,
   "metadata": {},
   "outputs": [
    {
     "data": {
      "text/plain": [
       "array([[1.00000000e+00, 3.33066907e-16, 0.00000000e+00],\n",
       "       [0.00000000e+00, 1.00000000e+00, 4.44089210e-16],\n",
       "       [1.38777878e-17, 6.93889390e-18, 1.00000000e+00]])"
      ]
     },
     "execution_count": 24,
     "metadata": {},
     "output_type": "execute_result"
    }
   ],
   "source": [
    "B.dot(A)"
   ]
  },
  {
   "cell_type": "code",
   "execution_count": 40,
   "metadata": {},
   "outputs": [
    {
     "data": {
      "text/plain": [
       "array([[1, 2, 2],\n",
       "       [3, 5, 3],\n",
       "       [5, 1, 8]])"
      ]
     },
     "execution_count": 40,
     "metadata": {},
     "output_type": "execute_result"
    }
   ],
   "source": [
    "A.T"
   ]
  },
  {
   "cell_type": "markdown",
   "metadata": {},
   "source": [
    "#### Properties of Inverse and Transpose"
   ]
  },
  {
   "cell_type": "code",
   "execution_count": 60,
   "metadata": {},
   "outputs": [],
   "source": [
    "A = np.array([[1,3,5],[2,5,1],[2,3,8]])"
   ]
  },
  {
   "cell_type": "code",
   "execution_count": 61,
   "metadata": {},
   "outputs": [
    {
     "data": {
      "text/plain": [
       "array([[ 1.00000000e+00, -1.11022302e-16,  4.85722573e-17],\n",
       "       [ 3.05311332e-16,  1.00000000e+00,  7.63278329e-17],\n",
       "       [ 2.22044605e-16, -1.11022302e-16,  1.00000000e+00]])"
      ]
     },
     "execution_count": 61,
     "metadata": {},
     "output_type": "execute_result"
    }
   ],
   "source": [
    "A.dot(linalg.inv(A))"
   ]
  },
  {
   "cell_type": "code",
   "execution_count": 62,
   "metadata": {},
   "outputs": [
    {
     "data": {
      "text/plain": [
       "array([[1.00000000e+00, 3.33066907e-16, 0.00000000e+00],\n",
       "       [0.00000000e+00, 1.00000000e+00, 4.44089210e-16],\n",
       "       [1.38777878e-17, 6.93889390e-18, 1.00000000e+00]])"
      ]
     },
     "execution_count": 62,
     "metadata": {},
     "output_type": "execute_result"
    }
   ],
   "source": [
    "linalg.inv(A).dot(A)"
   ]
  },
  {
   "cell_type": "code",
   "execution_count": 66,
   "metadata": {},
   "outputs": [],
   "source": [
    "A = np.array([[1, 2, 3],[3, 2, 1]])\n",
    "B = np.array([[0, 2],[1, -1], [0, 1]])"
   ]
  },
  {
   "cell_type": "code",
   "execution_count": 67,
   "metadata": {},
   "outputs": [
    {
     "data": {
      "text/plain": [
       "array([[ 1.25, -0.75],\n",
       "       [-0.5 ,  0.5 ]])"
      ]
     },
     "execution_count": 67,
     "metadata": {},
     "output_type": "execute_result"
    }
   ],
   "source": [
    "linalg.inv(A.dot(B))"
   ]
  },
  {
   "cell_type": "code",
   "execution_count": 68,
   "metadata": {},
   "outputs": [
    {
     "data": {
      "text/plain": [
       "array([[1, 2, 3],\n",
       "       [3, 2, 1]])"
      ]
     },
     "execution_count": 68,
     "metadata": {},
     "output_type": "execute_result"
    }
   ],
   "source": [
    "(A.T).T"
   ]
  },
  {
   "cell_type": "code",
   "execution_count": 69,
   "metadata": {},
   "outputs": [],
   "source": [
    "M = np.array([[1, 2],[2, 3]])\n",
    "N = np.array([[1, 2],[2, 3]])"
   ]
  },
  {
   "cell_type": "code",
   "execution_count": 70,
   "metadata": {},
   "outputs": [
    {
     "data": {
      "text/plain": [
       "array([[2, 4],\n",
       "       [4, 6]])"
      ]
     },
     "execution_count": 70,
     "metadata": {},
     "output_type": "execute_result"
    }
   ],
   "source": [
    "(M + N).T"
   ]
  },
  {
   "cell_type": "code",
   "execution_count": 71,
   "metadata": {},
   "outputs": [
    {
     "data": {
      "text/plain": [
       "array([[2, 4],\n",
       "       [4, 6]])"
      ]
     },
     "execution_count": 71,
     "metadata": {},
     "output_type": "execute_result"
    }
   ],
   "source": [
    "M.T + N.T"
   ]
  },
  {
   "cell_type": "code",
   "execution_count": 72,
   "metadata": {},
   "outputs": [
    {
     "data": {
      "text/plain": [
       "array([[ 5,  8],\n",
       "       [ 8, 13]])"
      ]
     },
     "execution_count": 72,
     "metadata": {},
     "output_type": "execute_result"
    }
   ],
   "source": [
    "(M.dot(N)).T"
   ]
  },
  {
   "cell_type": "code",
   "execution_count": 73,
   "metadata": {},
   "outputs": [
    {
     "data": {
      "text/plain": [
       "array([[ 5,  8],\n",
       "       [ 8, 13]])"
      ]
     },
     "execution_count": 73,
     "metadata": {},
     "output_type": "execute_result"
    }
   ],
   "source": [
    "N.T.dot(M.T)"
   ]
  },
  {
   "cell_type": "code",
   "execution_count": null,
   "metadata": {},
   "outputs": [],
   "source": []
  },
  {
   "cell_type": "code",
   "execution_count": null,
   "metadata": {},
   "outputs": [],
   "source": []
  }
 ],
 "metadata": {
  "kernelspec": {
   "display_name": "Python 3",
   "language": "python",
   "name": "python3"
  },
  "language_info": {
   "codemirror_mode": {
    "name": "ipython",
    "version": 3
   },
   "file_extension": ".py",
   "mimetype": "text/x-python",
   "name": "python",
   "nbconvert_exporter": "python",
   "pygments_lexer": "ipython3",
   "version": "3.7.5"
  }
 },
 "nbformat": 4,
 "nbformat_minor": 2
}
