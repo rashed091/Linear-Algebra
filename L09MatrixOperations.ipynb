{
 "cells": [
  {
   "cell_type": "markdown",
   "metadata": {
    "internals": {
     "slide_type": "subslide"
    },
    "slideshow": {
     "slide_type": "slide"
    }
   },
   "source": [
    "# Matrix Operations"
   ]
  },
  {
   "cell_type": "code",
   "execution_count": 1,
   "metadata": {
    "collapsed": false,
    "internals": {},
    "slideshow": {
     "slide_type": "skip"
    }
   },
   "outputs": [
    {
     "name": "stdout",
     "output_type": "stream",
     "text": [
      "\n"
     ]
    }
   ],
   "source": [
    "%matplotlib inline\n",
    "%config InlineBackend.figure_format='retina'\n",
    "# import libraries\n",
    "import numpy as np\n",
    "import matplotlib as mp\n",
    "import pandas as pd\n",
    "import matplotlib.pyplot as plt\n",
    "import laUtilities as ut\n",
    "import slideUtilities as sl\n",
    "import demoUtilities as dm\n",
    "import pandas as pd\n",
    "from importlib import reload\n",
    "from datetime import datetime\n",
    "from IPython.display import Image\n",
    "from IPython.display import display_html\n",
    "from IPython.display import display\n",
    "from IPython.display import Math\n",
    "from IPython.display import Latex\n",
    "from IPython.display import HTML\n",
    "print('')"
   ]
  },
  {
   "cell_type": "code",
   "execution_count": 2,
   "metadata": {
    "collapsed": false,
    "internals": {
     "slide_helper": "subslide_end"
    },
    "slide_helper": "slide_end",
    "slideshow": {
     "slide_type": "skip"
    }
   },
   "outputs": [
    {
     "data": {
      "text/html": [
       "<style>\n",
       " .container.slides .celltoolbar, .container.slides .hide-in-slideshow {\n",
       "    display: None ! important;\n",
       "}\n",
       "</style>"
      ],
      "text/plain": [
       "<IPython.core.display.HTML object>"
      ]
     },
     "metadata": {},
     "output_type": "display_data"
    }
   ],
   "source": [
    "%%html\n",
    "<style>\n",
    " .container.slides .celltoolbar, .container.slides .hide-in-slideshow {\n",
    "    display: None ! important;\n",
    "}\n",
    "</style>"
   ]
  },
  {
   "cell_type": "markdown",
   "metadata": {
    "slideshow": {
     "slide_type": "skip"
    }
   },
   "source": [
    "%Set up useful MathJax (Latex) macros.\n",
    "%See http://docs.mathjax.org/en/latest/tex.html#defining-tex-macros\n",
    "%These are for use in the slideshow\n",
    "$\\newcommand{\\mat}[1]{\\left[\\begin{array}#1\\end{array}\\right]}$\n",
    "$\\newcommand{\\vx}{{\\mathbf x}}$\n",
    "$\\newcommand{\\hx}{\\hat{\\mathbf x}}$\n",
    "$\\newcommand{\\vbt}{{\\mathbf\\beta}}$\n",
    "$\\newcommand{\\vy}{{\\mathbf y}}$\n",
    "$\\newcommand{\\vz}{{\\mathbf z}}$\n",
    "$\\newcommand{\\R}{{\\mathbb{R}}}$\n",
    "$\\newcommand{\\vu}{{\\mathbf u}}$\n",
    "$\\newcommand{\\vv}{{\\mathbf v}}$\n",
    "$\\newcommand{\\vw}{{\\mathbf w}}$\n",
    "$\\newcommand{\\col}{{\\operatorname{Col}}}$\n",
    "$\\newcommand{\\nul}{{\\operatorname{Nul}}}$\n",
    "$\\newcommand{\\vb}{{\\mathbf b}}$\n",
    "$\\newcommand{\\va}{{\\mathbf a}}$\n",
    "$\\newcommand{\\ve}{{\\mathbf e}}$\n",
    "$\\newcommand{\\setb}{{\\mathcal{B}}}$\n",
    "$\\newcommand{\\rank}{{\\operatorname{rank}}}$\n",
    "$\\newcommand{\\vp}{{\\mathbf p}}$"
   ]
  },
  {
   "cell_type": "raw",
   "metadata": {
    "slideshow": {
     "slide_type": "skip"
    }
   },
   "source": [
    "\\newcommand{\\mat}[1]{\\left[\\begin{array}#1\\end{array}\\right]}\n",
    "\\newcommand{\\vx}{{\\mathbf x}}\n",
    "\\newcommand{\\hx}{\\hat{\\mathbf x}}\n",
    "\\newcommand{\\vbt}{{\\mathbf\\beta}}\n",
    "\\newcommand{\\vy}{{\\mathbf y}}\n",
    "\\newcommand{\\vz}{{\\mathbf z}}\n",
    "\\newcommand{\\vb}{{\\mathbf b}}\n",
    "\\newcommand{\\vu}{{\\mathbf u}}\n",
    "\\newcommand{\\vv}{{\\mathbf v}}\n",
    "\\newcommand{\\vw}{{\\mathbf w}}\n",
    "\\newcommand{\\va}{{\\mathbf a}}\n",
    "\\newcommand{\\ve}{{\\mathbf e}}\n",
    "\\newcommand{\\vp}{{\\mathbf p}}\n",
    "\\newcommand{\\R}{{\\mathbb{R}}}\n",
    "\\newcommand{\\col}{{\\operatorname{Col}}}\n",
    "\\newcommand{\\nul}{{\\operatorname{Nul}}}\n",
    "\\newcommand{\\rank}{{\\operatorname{rank}}}\n",
    "\\newcommand{\\setb}{{\\mathcal{B}}}"
   ]
  },
  {
   "cell_type": "markdown",
   "metadata": {
    "internals": {
     "frag_helper": "fragment_end",
     "frag_number": 3,
     "slide_type": "subslide"
    },
    "slideshow": {
     "slide_type": "slide"
    }
   },
   "source": [
    "## Composing Linear Transformations"
   ]
  },
  {
   "cell_type": "markdown",
   "metadata": {
    "internals": {
     "frag_helper": "fragment_end",
     "frag_number": 3
    },
    "slideshow": {
     "slide_type": "-"
    }
   },
   "source": [
    "Recall the case of reflection through the origin:"
   ]
  },
  {
   "cell_type": "code",
   "execution_count": 3,
   "metadata": {
    "collapsed": false,
    "internals": {
     "frag_helper": "fragment_end",
     "frag_number": 5
    },
    "slideshow": {
     "slide_type": "fragment"
    }
   },
   "outputs": [
    {
     "data": {
      "text/latex": [
       "Reflection through the origin"
      ],
      "text/plain": [
       "<IPython.core.display.Latex object>"
      ]
     },
     "execution_count": 3,
     "metadata": {},
     "output_type": "execute_result"
    },
    {
     "data": {
      "image/png": "[encoded data removed]",
      "text/plain": [
       "<matplotlib.figure.Figure at 0x1111aaa58>"
      ]
     },
     "metadata": {
      "image/png": {
       "height": 358,
       "width": 358
      }
     },
     "output_type": "display_data"
    }
   ],
   "source": [
    "note = dm.mnote()\n",
    "A = np.array(\n",
    "    [[-1, 0],\n",
    "     [ 0,-1]])\n",
    "dm.plotSetup()\n",
    "dm.plotShape(note)\n",
    "dm.plotShape(A.dot(note),'r')\n",
    "Latex(r'Reflection through the origin')"
   ]
  },
  {
   "cell_type": "markdown",
   "metadata": {
    "internals": {
     "frag_helper": "fragment_end",
     "frag_number": 5
    },
    "slideshow": {
     "slide_type": "-"
    }
   },
   "source": [
    "We determined that the matrix $C = \\left[\\begin{array}{rr}-1&0\\\\0&-1\\end{array}\\right]$ implements this linear transformation.   "
   ]
  },
  {
   "cell_type": "markdown",
   "metadata": {
    "internals": {
     "frag_helper": "fragment_end",
     "frag_number": 7
    },
    "slideshow": {
     "slide_type": "fragment"
    }
   },
   "source": [
    "But notice that we could have accomplished this another way:\n",
    "\n",
    "* First reflect through the $x_1$ axis \n",
    "* Then reflect through the $x_2$ axis"
   ]
  },
  {
   "cell_type": "code",
   "execution_count": 4,
   "metadata": {
    "collapsed": false,
    "internals": {
     "frag_helper": "fragment_end",
     "frag_number": 8
    },
    "slideshow": {
     "slide_type": "fragment"
    }
   },
   "outputs": [
    {
     "data": {
      "image/png": "[encoded data removed]",
      "text/plain": [
       "<matplotlib.figure.Figure at 0x112d8dcc0>"
      ]
     },
     "metadata": {
      "image/png": {
       "height": 358,
       "width": 358
      }
     },
     "output_type": "display_data"
    }
   ],
   "source": [
    "A = np.array(\n",
    "    [[ 1, 0],\n",
    "     [ 0,-1]])\n",
    "B = np.array(\n",
    "    [[-1, 0],\n",
    "     [ 0, 1]])\n",
    "dm.plotSetup()\n",
    "dm.plotShape(note)\n",
    "dm.plotShape(A.dot(note),'g')\n",
    "dm.plotShape(B.dot(A.dot(note)),'r')"
   ]
  },
  {
   "cell_type": "markdown",
   "metadata": {
    "internals": {
     "frag_helper": "fragment_end",
     "frag_number": 9
    },
    "slideshow": {
     "slide_type": "fragment"
    }
   },
   "source": [
    "As we saw, to reflect a point through the $x_1$ axis, we multiply it by matrix $A = \\left[\\begin{array}{rr}1&0\\\\0&-1\\end{array}\\right]$.\n",
    "\n",
    "Likewise, to reflect a point through the $x_2$ axis, we multiply it by matrix $B = \\left[\\begin{array}{rr}-1&0\\\\0&1\\end{array}\\right]$."
   ]
  },
  {
   "cell_type": "markdown",
   "metadata": {
    "internals": {
     "frag_helper": "fragment_end",
     "frag_number": 10
    },
    "slideshow": {
     "slide_type": "fragment"
    }
   },
   "source": [
    "So, another way to reflect point ${\\bf u}$ through the origin would be:\n",
    "\n",
    "* ${\\bf v} = A{\\bf u}$\n",
    "* Followed by ${\\bf w} = B{\\bf v}.$"
   ]
  },
  {
   "cell_type": "markdown",
   "metadata": {
    "internals": {
     "frag_helper": "fragment_end",
     "frag_number": 11
    },
    "slideshow": {
     "slide_type": "fragment"
    }
   },
   "source": [
    "In other words, ${\\bf w} = B(A{\\bf u}).$"
   ]
  },
  {
   "cell_type": "markdown",
   "metadata": {
    "internals": {
     "frag_helper": "fragment_end",
     "frag_number": 12,
     "slide_helper": "subslide_end"
    },
    "slide_helper": "slide_end",
    "slideshow": {
     "slide_type": "fragment"
    }
   },
   "source": [
    "But it is clear that $B(A{\\bf x})$ and $C{\\bf x}$ are the _same_ linear transformation.  So, using $C$ we can go directly to the solution using one multiplication, rather than having to multiply twice (once for $A$ and once for $B$)."
   ]
  },
  {
   "cell_type": "markdown",
   "metadata": {
    "internals": {
     "frag_helper": "fragment_end",
     "frag_number": 12,
     "slide_type": "subslide"
    },
    "slideshow": {
     "slide_type": "slide"
    }
   },
   "source": [
    "So a natural question is: given $A$ and $B$, could we find $C$ directly?\n",
    "\n",
    "In other words, for any $A$ and $B$, could we find $C$ such that:\n",
    "\n",
    "$$ A(B{\\bf x}) = C{\\bf x}? $$"
   ]
  },
  {
   "cell_type": "markdown",
   "metadata": {
    "internals": {
     "frag_helper": "fragment_end",
     "frag_number": 14
    },
    "slideshow": {
     "slide_type": "fragment"
    }
   },
   "source": [
    "Let's determine how to find $C$ given $A$ and $B.$"
   ]
  },
  {
   "cell_type": "markdown",
   "metadata": {
    "internals": {
     "frag_helper": "fragment_end",
     "frag_number": 15
    },
    "slideshow": {
     "slide_type": "fragment"
    }
   },
   "source": [
    "If $A$ is $m \\times n$, $B$ is $n \\times p$, and ${\\bf x} \\in \\mathbb{R}^p,$ denote the columns of $B$ by ${\\bf b_1},\\dots,{\\bf b_p},$ and the entries in ${\\bf x}$ by $x_1, \\dots, x_p.$"
   ]
  },
  {
   "cell_type": "markdown",
   "metadata": {
    "internals": {
     "frag_helper": "fragment_end",
     "frag_number": 16
    },
    "slideshow": {
     "slide_type": "fragment"
    }
   },
   "source": [
    "Then:\n",
    "$$ B{\\bf x} = x_1{\\bf b_1} + \\dots + x_p {\\bf b_p}. $$"
   ]
  },
  {
   "cell_type": "markdown",
   "metadata": {
    "internals": {
     "frag_helper": "fragment_end",
     "frag_number": 17
    },
    "slideshow": {
     "slide_type": "fragment"
    }
   },
   "source": [
    "and:\n",
    "\n",
    "$$A(B{\\bf x}) = A(x_1{\\bf b_1} + \\dots + x_p {\\bf b_p})$$"
   ]
  },
  {
   "cell_type": "markdown",
   "metadata": {
    "internals": {
     "frag_helper": "fragment_end",
     "frag_number": 18
    },
    "slideshow": {
     "slide_type": "fragment"
    }
   },
   "source": [
    "Since matrix-vector multiplication is a linear transformation:\n",
    "\n",
    "$$ = x_1A{\\bf b_1} + \\dots + x_pA{\\bf b_p}. $$"
   ]
  },
  {
   "cell_type": "markdown",
   "metadata": {
    "internals": {
     "frag_helper": "fragment_end",
     "frag_number": 19
    },
    "slideshow": {
     "slide_type": "fragment"
    }
   },
   "source": [
    "So the vector $A(B{\\bf x})$ is a linear combination of the vectors $A{\\bf b_1}, \\dots, A{\\bf b_p},$ using the entries in ${\\bf x}$ as weights."
   ]
  },
  {
   "cell_type": "markdown",
   "metadata": {
    "internals": {
     "frag_helper": "fragment_end",
     "frag_number": 20,
     "slide_helper": "subslide_end"
    },
    "slide_helper": "slide_end",
    "slideshow": {
     "slide_type": "fragment"
    }
   },
   "source": [
    "A linear combination of vectors is the same as a matrix-vector multiplication.   In matrix terms, this linear combination is written:\n",
    "\n",
    "$$ A(B{\\bf x}) = [A{\\bf b_1} \\; \\dots \\; A{\\bf b_p}] {\\bf x}.$$"
   ]
  },
  {
   "cell_type": "markdown",
   "metadata": {
    "slideshow": {
     "slide_type": "fragment"
    }
   },
   "source": [
    "So this matrix is what we are looking for!"
   ]
  },
  {
   "cell_type": "markdown",
   "metadata": {
    "internals": {
     "frag_helper": "fragment_end",
     "frag_number": 20,
     "slide_type": "subslide"
    },
    "slideshow": {
     "slide_type": "slide"
    }
   },
   "source": [
    "__Definition.__  If $A$ is an $m \\times n$ matrix and $B$ is $n \\times p$ matrix with columns ${\\bf b_1},\\dots,{\\bf b_p},$ then the product $AB$ is defined as the $m \\times p$ matrix whose columns are $A{\\bf b_1}, \\dots, A{\\bf b_p}.$  That is,\n",
    "\n",
    "$$ AB = A[{\\bf b_1} \\; \\dots \\; {\\bf b_p}] = [A{\\bf b_1} \\; \\dots \\; A{\\bf b_p}]. $$"
   ]
  },
  {
   "cell_type": "markdown",
   "metadata": {
    "internals": {
     "frag_helper": "fragment_end",
     "frag_number": 22
    },
    "slideshow": {
     "slide_type": "fragment"
    }
   },
   "source": [
    "This definition means that for any $A$ and $B$ for which $AB$ is defined, then if $C$ = $AB$,\n",
    "\n",
    "$$ C{\\bf x} = A(B{\\bf x}). $$"
   ]
  },
  {
   "cell_type": "markdown",
   "metadata": {
    "internals": {
     "frag_helper": "fragment_end",
     "frag_number": 23
    },
    "slideshow": {
     "slide_type": "fragment"
    }
   },
   "source": [
    "That is: _multiplication of matrices_ corresponds to _composition of linear transformations._"
   ]
  },
  {
   "cell_type": "markdown",
   "metadata": {
    "internals": {
     "frag_helper": "fragment_end",
     "frag_number": 24,
     "slide_helper": "subslide_end"
    },
    "slide_helper": "slide_end",
    "slideshow": {
     "slide_type": "fragment"
    }
   },
   "source": [
    "Note that when $C = AB$, $C{\\bf x}$ is a vector _in the span of the columns of $A.$_ "
   ]
  },
  {
   "cell_type": "markdown",
   "metadata": {
    "internals": {
     "frag_helper": "fragment_end",
     "frag_number": 24,
     "slide_type": "subslide"
    },
    "slideshow": {
     "slide_type": "slide"
    }
   },
   "source": [
    "__Example.__  Compute $AB$ where $A = \\left[\\begin{array}{rr}2&3\\\\1&-5\\end{array}\\right]$ and $B = \\left[\\begin{array}{rrr}4&3&6\\\\1&-2&3\\end{array}\\right].$"
   ]
  },
  {
   "cell_type": "markdown",
   "metadata": {
    "internals": {
     "frag_helper": "fragment_end",
     "frag_number": 26
    },
    "slideshow": {
     "slide_type": "fragment"
    }
   },
   "source": [
    "__Solution.__ Write $B = \\left[{\\bf b_1}\\;{\\bf b_2}\\;{\\bf b_3}\\right],$ and compute:\n",
    "\n",
    "$$ A{\\bf b_1} = \\left[\\begin{array}{rr}2&3\\\\1&-5\\end{array}\\right]\\left[\\begin{array}{r}4\\\\1\\end{array}\\right],\\;\\;\\;\n",
    "A{\\bf b_2} = \\left[\\begin{array}{rr}2&3\\\\1&-5\\end{array}\\right]\\left[\\begin{array}{r}3\\\\-2\\end{array}\\right],\\;\\;\\;\n",
    "A{\\bf b_3} = \\left[\\begin{array}{rr}2&3\\\\1&-5\\end{array}\\right]\\left[\\begin{array}{r}6\\\\3\\end{array}\\right],$$"
   ]
  },
  {
   "cell_type": "markdown",
   "metadata": {
    "internals": {
     "frag_helper": "fragment_end",
     "frag_number": 27
    },
    "slideshow": {
     "slide_type": "fragment"
    }
   },
   "source": [
    "$$ = \\left[\\begin{array}{r}11\\\\-1\\end{array}\\right]\\;\\;\\;\\left[\\begin{array}{r}0\\\\13\\end{array}\\right]\\;\\;\\;\\left[\\begin{array}{r}21\\\\-9\\end{array}\\right].$$"
   ]
  },
  {
   "cell_type": "markdown",
   "metadata": {
    "internals": {
     "frag_helper": "fragment_end",
     "frag_number": 28,
     "slide_helper": "subslide_end"
    },
    "slide_helper": "slide_end",
    "slideshow": {
     "slide_type": "fragment"
    }
   },
   "source": [
    "So:\n",
    "\n",
    "$$ AB = \\left[A{\\bf b_1}\\;A{\\bf b_2}\\;A{\\bf b_3}\\right] = \\left[\\begin{array}{rrr}11&0&21\\\\-1&13&-9\\end{array}\\right].$$"
   ]
  },
  {
   "cell_type": "markdown",
   "metadata": {
    "internals": {
     "frag_helper": "fragment_end",
     "frag_number": 28,
     "slide_type": "subslide"
    },
    "slideshow": {
     "slide_type": "slide"
    }
   },
   "source": [
    "__Example.__ Verify that reflection through the $x_1$ axis followed by reflection through the $x_2$ axis is the same as reflection through the origin."
   ]
  },
  {
   "cell_type": "markdown",
   "metadata": {
    "internals": {
     "frag_helper": "fragment_end",
     "frag_number": 30
    },
    "slideshow": {
     "slide_type": "fragment"
    }
   },
   "source": [
    "$$\\left[\\begin{array}{rr}-1&0\\\\0&1\\end{array}\\right]\\left[\\begin{array}{rr}1&0\\\\0&-1\\end{array}\\right] = \\left[\\begin{array}{rr}~&~\\\\~&~\\end{array}\\right].$$"
   ]
  },
  {
   "cell_type": "markdown",
   "metadata": {
    "slideshow": {
     "slide_type": "fragment"
    }
   },
   "source": [
    "$$\\left[\\begin{array}{rr}-1&0\\\\0&1\\end{array}\\right]\\left[\\begin{array}{rr}1&0\\\\0&-1\\end{array}\\right] = \\left[\\begin{array}{rr}-1&0\\\\0&-1\\end{array}\\right].$$"
   ]
  },
  {
   "cell_type": "markdown",
   "metadata": {
    "internals": {
     "frag_helper": "fragment_end",
     "frag_number": 31,
     "slide_helper": "subslide_end"
    },
    "slide_helper": "slide_end",
    "slideshow": {
     "slide_type": "fragment"
    }
   },
   "source": [
    "Note that this is a valid proof because every linear transformation of vectors is defined by its standard matrix."
   ]
  },
  {
   "cell_type": "markdown",
   "metadata": {
    "internals": {
     "frag_helper": "fragment_end",
     "frag_number": 31,
     "slide_type": "subslide"
    },
    "slideshow": {
     "slide_type": "slide"
    }
   },
   "source": [
    "__Example.__  If $A$ is a $3 \\times 5$ matrix, and $B$ is a $5 \\times 2$ matrix, what are the sizes of $AB$ and $BA$, if they are defined?"
   ]
  },
  {
   "cell_type": "markdown",
   "metadata": {
    "internals": {
     "frag_helper": "fragment_end",
     "frag_number": 33
    },
    "slideshow": {
     "slide_type": "fragment"
    }
   },
   "source": [
    "$$\\begin{array}{cccc}A&B&=&AB\\\\\n",
    "3\\times 5&5 \\times 2&& 3 \\times 2\\\\\n",
    "\\left[\\begin{array}{rrrrr}*&*&*&*&*\\\\ *&*&*&*&*\\\\ *&*&*&*&*\\end{array}\\right] & \n",
    "\\left[\\begin{array}{rr}*&*\\\\ *&*\\\\ *&*\\\\ *&*\\\\ *&*\\end{array}\\right] & \n",
    "= &\n",
    "\\left[\\begin{array}{rr}*&*\\\\ *&*\\\\ *&*\\end{array}\\right]\n",
    "\\end{array}$$"
   ]
  },
  {
   "cell_type": "markdown",
   "metadata": {
    "internals": {
     "frag_helper": "fragment_end",
     "frag_number": 34
    },
    "slideshow": {
     "slide_type": "fragment"
    }
   },
   "source": [
    "What about $BA$?"
   ]
  },
  {
   "cell_type": "markdown",
   "metadata": {
    "internals": {
     "frag_helper": "fragment_end",
     "frag_number": 35
    },
    "slideshow": {
     "slide_type": "fragment"
    }
   },
   "source": [
    "It is not defined, because the number of columns of $B$ does not match the number of rows of $A$."
   ]
  },
  {
   "cell_type": "markdown",
   "metadata": {
    "internals": {
     "frag_helper": "fragment_end",
     "frag_number": 36,
     "slide_helper": "subslide_end"
    },
    "slide_helper": "slide_end",
    "slideshow": {
     "slide_type": "fragment"
    }
   },
   "source": [
    "__Facts.__\n",
    "\n",
    "If $A$ is $m\\times n$, and $B$ is $p \\times q$, then $AB$ is defined if and only if $n = p$.   If $AB$ is defined, then it is $m \\times q$.\n",
    "\n",
    "$$\\begin{array}{cccc}A&B&=&AB\\\\\n",
    "3\\times \\fbox{5}&\\fbox{5} \\times 2&& 3 \\times 2\\\\\n",
    "\\end{array}$$"
   ]
  },
  {
   "cell_type": "markdown",
   "metadata": {
    "internals": {
     "frag_helper": "fragment_end",
     "frag_number": 36,
     "slide_type": "subslide"
    },
    "slideshow": {
     "slide_type": "slide"
    }
   },
   "source": [
    "## Inner Product View of Matrix Multiplication."
   ]
  },
  {
   "cell_type": "markdown",
   "metadata": {
    "internals": {
     "frag_helper": "fragment_end",
     "frag_number": 36
    },
    "slideshow": {
     "slide_type": "-"
    }
   },
   "source": [
    "Recall that the inner product of two vectors or sequences ${\\bf u}$ and ${\\bf v}$ is $\\sum_k u_k v_k.$   \n",
    "\n",
    "Also recall that one way to define the matrix vector product is $(A{\\bf x})_i =$ inner product of ${\\bf x}$ and row $i$ of $A$."
   ]
  },
  {
   "cell_type": "markdown",
   "metadata": {
    "internals": {
     "frag_helper": "fragment_end",
     "frag_number": 39
    },
    "slideshow": {
     "slide_type": "fragment"
    }
   },
   "source": [
    "This immediately shows another way to think of matrix multiplication:\n",
    "\n",
    "$(AB)_{ij} =$ inner product of row $i$ of $A$ and column $j$ of $B = \\sum_k A_{ik}B_{kj}.$"
   ]
  },
  {
   "cell_type": "markdown",
   "metadata": {
    "internals": {
     "frag_helper": "fragment_end",
     "frag_number": 40
    },
    "slideshow": {
     "slide_type": "fragment"
    }
   },
   "source": [
    "__Example.__ Start with the same matrices as the last example, $A = \\left[\\begin{array}{rr}2&3\\\\1&-5\\end{array}\\right]$ and $B = \\left[\\begin{array}{rrr}4&3&6\\\\1&-2&3\\end{array}\\right].$  Compute the entry in row 1 and column 3 of $C$."
   ]
  },
  {
   "cell_type": "markdown",
   "metadata": {
    "internals": {
     "frag_helper": "fragment_end",
     "frag_number": 41,
     "slide_helper": "subslide_end"
    },
    "slide_helper": "slide_end",
    "slideshow": {
     "slide_type": "fragment"
    }
   },
   "source": [
    "$$AB = \\left[\\begin{array}{rr}\\fbox{2} & \\fbox{3}\\\\1&-5\\end{array}\\right]\\left[\\begin{array}{rrr}4&3&\\fbox{6}\\\\1&-2&\\fbox{3}\\end{array}\\right] = \\left[\\begin{array}{rrc}*&*&2(6)+3(3)\\\\*&*&*\\end{array}\\right] = \\left[\\begin{array}{rrr}*&*&21\\\\*&*&*\\end{array}\\right].$$\n",
    "\n",
    "This agrees with the result of the last example, and we could reproduce the whole solution by repeating this for each element of the result matrix."
   ]
  },
  {
   "cell_type": "markdown",
   "metadata": {
    "internals": {
     "frag_helper": "fragment_end",
     "frag_number": 41,
     "slide_helper": "subslide_end",
     "slide_type": "subslide"
    },
    "slide_helper": "slide_end",
    "slideshow": {
     "slide_type": "slide"
    }
   },
   "source": [
    "## Question Time! Q9.1"
   ]
  },
  {
   "cell_type": "markdown",
   "metadata": {
    "internals": {
     "frag_helper": "fragment_end",
     "frag_number": 41,
     "slide_type": "subslide"
    },
    "slideshow": {
     "slide_type": "slide"
    }
   },
   "source": [
    "## Matrix Algebra"
   ]
  },
  {
   "cell_type": "markdown",
   "metadata": {
    "internals": {
     "frag_helper": "fragment_end",
     "frag_number": 41
    },
    "slideshow": {
     "slide_type": "-"
    }
   },
   "source": [
    "We've defined multiplication of two matrices.   What about addition of two matrices?"
   ]
  },
  {
   "cell_type": "markdown",
   "metadata": {
    "internals": {
     "frag_helper": "fragment_end",
     "frag_number": 45
    },
    "slideshow": {
     "slide_type": "fragment"
    }
   },
   "source": [
    "This is straightfoward: if $A$ and $B$ are the same shape, we get $A + B$ by adding the corresponding elements.  (Just like adding vectors.)\n",
    "\n",
    "That is, \n",
    "\n",
    "$$(A + B)_{ij} = A_{ij} + B_{ij}.$$\n",
    "\n",
    "If $A$ and $B$ are not the same shape, $A + B$ is undefined."
   ]
  },
  {
   "cell_type": "markdown",
   "metadata": {
    "internals": {
     "frag_helper": "fragment_end",
     "frag_number": 46
    },
    "slideshow": {
     "slide_type": "fragment"
    }
   },
   "source": [
    "Furthermore, we define scalar-matrix multiplication just as for vectors:\n",
    "\n",
    "$$ (rA)_{ij} = r(A_{ij}).$$"
   ]
  },
  {
   "cell_type": "markdown",
   "metadata": {
    "internals": {
     "frag_helper": "fragment_end",
     "frag_number": 47
    },
    "slideshow": {
     "slide_type": "fragment"
    }
   },
   "source": [
    "So, just as we did for vectors, we can show that the standard properties of addition apply, and that scalar multiplication distributes over addition:\n",
    "\n",
    "1. $A +  B = B + A$\n",
    "2. $(A + B) + C = A + (B + C)$\n",
    "3. $A + 0 = A$\n",
    "4. $r(A + B) = rA + rB$\n",
    "5. $(r + s)A = rA + sA$\n",
    "6. $r(sA) = (rs)A$"
   ]
  },
  {
   "cell_type": "markdown",
   "metadata": {
    "internals": {
     "frag_helper": "fragment_end",
     "frag_number": 48
    },
    "slideshow": {
     "slide_type": "fragment"
    }
   },
   "source": [
    "Furthermore, we find that __some__ of the familiar properties of multiplication apply to matrix multiplication (assume that all sums and products are defined):\n",
    "\n",
    "1. $A(BC) = (AB)C$  \n",
    "    * multiplication of matrices is associative\n",
    "2. $A(B+C) = AB + AC$ \n",
    "    * multiplication on the left distributes over addition\n",
    "3. $(B+C)A = BA + CA$ \n",
    "    * multiplication on the right distributes over addition\n",
    "4. $r(AB) = (rA)B = A(rB)$ \n",
    "    * for any scalar $r$\n",
    "5. $I A = A = AI$ "
   ]
  },
  {
   "cell_type": "markdown",
   "metadata": {
    "internals": {
     "frag_helper": "fragment_end",
     "frag_number": 49,
     "slide_helper": "subslide_end"
    },
    "slide_helper": "slide_end",
    "slideshow": {
     "slide_type": "fragment"
    }
   },
   "source": [
    "Note that property 1 means that we can write $ABC$ without bothering about parentheses. "
   ]
  },
  {
   "cell_type": "markdown",
   "metadata": {
    "internals": {
     "frag_helper": "fragment_end",
     "frag_number": 49,
     "slide_type": "subslide"
    },
    "slideshow": {
     "slide_type": "slide"
    }
   },
   "source": [
    "__Now, here is where things get different!__"
   ]
  },
  {
   "cell_type": "markdown",
   "metadata": {
    "internals": {
     "frag_helper": "fragment_end",
     "frag_number": 51
    },
    "slideshow": {
     "slide_type": "fragment"
    }
   },
   "source": [
    "* In general, $AB$ is __not__ equal to $BA$.  Multiplication is __not commutative!__\n",
    "    * Consider $A = \\left[\\begin{array}{rr}1 & 1\\\\1&1\\end{array}\\right]$ and $B = \\left[\\begin{array}{rr}1 & 1\\\\1&2\\end{array}\\right].$"
   ]
  },
  {
   "cell_type": "markdown",
   "metadata": {
    "internals": {
     "frag_helper": "fragment_end",
     "frag_number": 52
    },
    "slideshow": {
     "slide_type": "fragment"
    }
   },
   "source": [
    "* In fact, even if $AB$ is defined, $BA$ may not be defined.\n",
    "    * $AB$ and $BA$ are both defined only if $A$ and $B$ are square."
   ]
  },
  {
   "cell_type": "markdown",
   "metadata": {
    "internals": {
     "frag_helper": "fragment_end",
     "frag_number": 53
    },
    "slideshow": {
     "slide_type": "fragment"
    }
   },
   "source": [
    "* On the other hand, sometimes $A$ and $B$ __do__ commute.\n",
    "    * Consider $A$ and $B$ as the reflections through the $x_1$ and $x_2$ axis. Then $AB$ and $BA$ both implement reflection through the origin (i.e., the same transformation.) So in this case $AB = BA$."
   ]
  },
  {
   "cell_type": "markdown",
   "metadata": {
    "internals": {
     "frag_helper": "fragment_end",
     "frag_number": 54
    },
    "slideshow": {
     "slide_type": "fragment"
    }
   },
   "source": [
    "* You cannot, in general, cancel out matrices in a multiplication.   That is, if $AC = AB$, it does not follow that $C = B$.  \n",
    "    * Consider the case where $A$ is the projection onto one of the axes."
   ]
  },
  {
   "cell_type": "markdown",
   "metadata": {
    "internals": {
     "frag_helper": "fragment_end",
     "frag_number": 55
    },
    "slideshow": {
     "slide_type": "fragment"
    }
   },
   "source": [
    "* If $AB$ is the zero matrix, you cannot in general conclude that either $A$ or $B$ must be a zero matrix.\n",
    "    * Consider $A = \\left[\\begin{array}{rr}1 & 0\\\\0&0\\end{array}\\right]$ and $B = \\left[\\begin{array}{rr}0 & 0\\\\0&1\\end{array}\\right].$"
   ]
  },
  {
   "cell_type": "markdown",
   "metadata": {
    "internals": {
     "frag_helper": "fragment_end",
     "frag_number": 55,
     "slide_helper": "subslide_end"
    },
    "slide_helper": "slide_end",
    "slideshow": {
     "slide_type": "-"
    }
   },
   "source": [
    "__Study and remember these rules.  You will use them!__"
   ]
  },
  {
   "cell_type": "markdown",
   "metadata": {
    "internals": {
     "frag_helper": "fragment_end",
     "frag_number": 55,
     "slide_type": "subslide"
    },
    "slideshow": {
     "slide_type": "slide"
    }
   },
   "source": [
    "## Powers of a Matrix"
   ]
  },
  {
   "cell_type": "markdown",
   "metadata": {
    "internals": {
     "frag_helper": "fragment_end",
     "frag_number": 55
    },
    "slideshow": {
     "slide_type": "-"
    }
   },
   "source": [
    "Equipped now with matrix-matrix multiplication, we can define the powers of a matrix in a straightforward way.  For an integer $k > 0$:\n",
    "\n",
    "$$ A^k = \\overbrace{A\\cdots A}^k.$$\n",
    "\n",
    "Obviously, $A$ must be a square matrix for $A^k$ to be defined."
   ]
  },
  {
   "cell_type": "markdown",
   "metadata": {
    "internals": {
     "frag_helper": "fragment_end",
     "frag_number": 59,
     "slide_helper": "subslide_end"
    },
    "slide_helper": "slide_end",
    "slideshow": {
     "slide_type": "fragment"
    }
   },
   "source": [
    "What should $A^0$ be?\n",
    "\n",
    "$A^0{\\bf x}$ should be the result of multiplying ${\\bf x}$ with $A$ zero times.   So we define $A^0 = I$."
   ]
  },
  {
   "cell_type": "markdown",
   "metadata": {
    "internals": {
     "frag_helper": "fragment_end",
     "frag_number": 59,
     "slide_helper": "subslide_end",
     "slide_type": "subslide"
    },
    "slide_helper": "slide_end",
    "slideshow": {
     "slide_type": "slide"
    }
   },
   "source": [
    "## Question Time! Q9.2"
   ]
  },
  {
   "cell_type": "markdown",
   "metadata": {
    "internals": {
     "frag_helper": "fragment_end",
     "frag_number": 59,
     "slide_type": "subslide"
    },
    "slideshow": {
     "slide_type": "slide"
    }
   },
   "source": [
    "## The Transpose of a Matrix"
   ]
  },
  {
   "cell_type": "markdown",
   "metadata": {
    "internals": {
     "frag_helper": "fragment_end",
     "frag_number": 59
    },
    "slideshow": {
     "slide_type": "-"
    }
   },
   "source": [
    "Given an $m \\times n$ matrix $A,$ the _transpose_ of $A$ is the matrix we get by interchanging its rows and columns.\n",
    "\n",
    "It is denoted $A^T$.   Its shape is $n \\times m$."
   ]
  },
  {
   "cell_type": "markdown",
   "metadata": {
    "internals": {
     "frag_helper": "fragment_end",
     "frag_number": 63
    },
    "slideshow": {
     "slide_type": "fragment"
    }
   },
   "source": [
    "For example, if:\n",
    "\n",
    "$$\n",
    "\\begin{array}{ccc}\n",
    "A = \\left[\\begin{array}{rr}a&b\\\\c&d\\end{array}\\right],&\n",
    "B = \\left[\\begin{array}{rr}-5&2\\\\1&-3\\\\0&4\\end{array}\\right],&\n",
    "C = \\left[\\begin{array}{rrrr}1&1&1&1\\\\-3&5&-2&7\\end{array}\\right]\n",
    "\\end{array}\n",
    "$$\n",
    "\n",
    "Then:\n",
    "\n",
    "$$\n",
    "\\begin{array}{ccc}\n",
    "A^T = \\left[\\begin{array}{rr}a&c\\\\b&d\\end{array}\\right],&\n",
    "B^T = \\left[\\begin{array}{rrr}-5&1&0\\\\2&-3&4\\end{array}\\right],&\n",
    "C^T = \\left[\\begin{array}{rr}1&-3\\\\1&5\\\\1&-2\\\\1&7\\end{array}\\right]\n",
    "\\end{array}\n",
    "$$"
   ]
  },
  {
   "cell_type": "markdown",
   "metadata": {
    "internals": {
     "frag_helper": "fragment_end",
     "frag_number": 64
    },
    "slideshow": {
     "slide_type": "fragment"
    }
   },
   "source": [
    "The definition can be stated succinctly:\n",
    "\n",
    "$$A^T_{ij} = A_{ji}.$$"
   ]
  },
  {
   "cell_type": "markdown",
   "metadata": {
    "internals": {
     "frag_helper": "fragment_end",
     "frag_number": 65
    },
    "slideshow": {
     "slide_type": "fragment"
    }
   },
   "source": [
    "__Rules for Transposes:__\n",
    "\n",
    "1. $(A^T)^T = A$\n",
    "2. $(A + B)^T = A^T + B^T$\n",
    "3. For any scalar $r$, $(rA)^T = r(A^T)$\n",
    "4. $(AB)^T = B^TA^T$"
   ]
  },
  {
   "cell_type": "markdown",
   "metadata": {
    "internals": {
     "frag_helper": "fragment_end",
     "frag_number": 65,
     "slide_helper": "subslide_end"
    },
    "slide_helper": "slide_end",
    "slideshow": {
     "slide_type": "-"
    }
   },
   "source": [
    "The first three are pretty obvious.  \n",
    "\n",
    "The last one is a bit different. __Memorize it.__ You will use it: the transpose of a product is the product of the transposes __in reverse order__."
   ]
  },
  {
   "cell_type": "markdown",
   "metadata": {
    "internals": {
     "frag_helper": "fragment_end",
     "frag_number": 65,
     "slide_helper": "subslide_end",
     "slide_type": "subslide"
    },
    "slide_helper": "slide_end",
    "slideshow": {
     "slide_type": "slide"
    }
   },
   "source": [
    "## Question Time!  Q9.3"
   ]
  },
  {
   "cell_type": "markdown",
   "metadata": {
    "internals": {
     "frag_helper": "fragment_end",
     "frag_number": 65,
     "slide_type": "subslide"
    },
    "slideshow": {
     "slide_type": "slide"
    }
   },
   "source": [
    "__Question:__ For a vector in ${\\bf x} \\in \\mathbb{R}^n$, what is ${\\bf x}^T$?   "
   ]
  },
  {
   "cell_type": "markdown",
   "metadata": {
    "internals": {
     "frag_helper": "fragment_end",
     "frag_number": 69
    },
    "slideshow": {
     "slide_type": "fragment"
    }
   },
   "source": [
    "__Answer:__ For the purposes of the definition, we treat ${\\bf x}$ as a $n \\times 1$ matrix.  So its transpose is an $1\\times n$ matrix, i.e., a matrix with a single row."
   ]
  },
  {
   "cell_type": "markdown",
   "metadata": {
    "internals": {
     "frag_helper": "fragment_end",
     "frag_number": 70
    },
    "slideshow": {
     "slide_type": "fragment"
    }
   },
   "source": [
    "__Question:__ For two vectors ${\\bf x}$ and ${\\bf y}$, what is ${\\bf x}^T {\\bf y}$?"
   ]
  },
  {
   "cell_type": "markdown",
   "metadata": {
    "internals": {
     "frag_helper": "fragment_end",
     "frag_number": 71,
     "slide_helper": "subslide_end"
    },
    "slide_helper": "slide_end",
    "slideshow": {
     "slide_type": "fragment"
    }
   },
   "source": [
    "__Answer:__ By the definition of matrix-vector multiplication,  ${\\bf x}^T {\\bf y} = \\sum_{i=1}^n x_i y_i.$\n",
    "\n",
    "That is, ${\\bf x}^T {\\bf y}$ is the __inner product__ of ${\\bf x}$ and ${\\bf y}$.  This simple construction is a very useful one to remember."
   ]
  },
  {
   "cell_type": "markdown",
   "metadata": {
    "internals": {
     "frag_helper": "fragment_end",
     "frag_number": 71,
     "slide_type": "subslide"
    },
    "slideshow": {
     "slide_type": "slide"
    }
   },
   "source": [
    "## The Computational Viewpoint"
   ]
  },
  {
   "cell_type": "markdown",
   "metadata": {
    "internals": {
     "frag_helper": "fragment_end",
     "frag_number": 71
    },
    "slideshow": {
     "slide_type": "-"
    }
   },
   "source": [
    "You recall in the last lecture I said that in Python/numpy:\n",
    "\n",
    "    C = A.dot(B)\n",
    "    \n",
    "was the same as:\n",
    "\n",
    "    for i in range(k):\n",
    "        C[:,k] = AxIP(A, B[:,k])\n",
    "        \n",
    "So now you know: `A.dot(B)` is really _matrix multiplication_ of `A` and `B.` :)"
   ]
  },
  {
   "cell_type": "markdown",
   "metadata": {
    "internals": {
     "frag_helper": "fragment_end",
     "frag_number": 74,
     "slide_helper": "subslide_end"
    },
    "slide_helper": "slide_end",
    "slideshow": {
     "slide_type": "fragment"
    }
   },
   "source": [
    "Matrix multiplication is a mainstay of computing.  Thousands of applications rely heavily on matrix multiplication.  Some examples include\n",
    "\n",
    "* Computer graphics and animation\n",
    "* Google's algorithm for ranking search results\n",
    "* Modeling mechanical structures such as aircraft and buildings\n",
    "* Compressing and decompressing audio signals\n",
    "* Weather modeling and prediction\n",
    "* Modeling quantum computing\n",
    "\n",
    "So minimizing the time required to do matrix multiplication is immensely important."
   ]
  },
  {
   "cell_type": "markdown",
   "metadata": {
    "internals": {
     "frag_helper": "fragment_end",
     "frag_number": 74,
     "slide_type": "subslide"
    },
    "slideshow": {
     "slide_type": "slide"
    }
   },
   "source": [
    "__Complexity.__\n",
    "\n",
    "What is the computational complexity of matrix multiplication?"
   ]
  },
  {
   "cell_type": "markdown",
   "metadata": {
    "internals": {
     "frag_helper": "fragment_end",
     "frag_number": 76
    },
    "slideshow": {
     "slide_type": "fragment"
    }
   },
   "source": [
    "For two $n \\times n$ matrices, consider the definition that uses inner product:\n",
    "\n",
    "$$ (AB)_{ij} = \\sum_{k=1}^n A_{ik}B_{kj}.$$"
   ]
  },
  {
   "cell_type": "markdown",
   "metadata": {
    "internals": {
     "frag_helper": "fragment_end",
     "frag_number": 77
    },
    "slideshow": {
     "slide_type": "fragment"
    }
   },
   "source": [
    "So each element of the product $AB$ requires $n$ multiplications and $n$ additions.\n",
    "\n",
    "There are $n^2$ elements of $AB$, so the overall computation requires $$2n \\cdot n^2 = 2n^3$$ operations."
   ]
  },
  {
   "cell_type": "markdown",
   "metadata": {
    "internals": {
     "frag_helper": "fragment_end",
     "frag_number": 78
    },
    "slideshow": {
     "slide_type": "fragment"
    }
   },
   "source": [
    "That's not particularly good news; for two matrices of size 10,000 $\\times$ 10,000 (which is not particularly large in practice), this is 2 trillion operations (2 teraflops)."
   ]
  },
  {
   "cell_type": "markdown",
   "metadata": {
    "internals": {
     "frag_helper": "fragment_end",
     "frag_number": 79
    },
    "slideshow": {
     "slide_type": "fragment"
    }
   },
   "source": [
    "What is the complexity of matrix-vector multiplication?\n",
    "\n",
    "We know that matrix-vector multiplication requires $n$ inner products of size $n$.  So, it is $2n^2.$"
   ]
  },
  {
   "cell_type": "markdown",
   "metadata": {
    "internals": {
     "frag_helper": "fragment_end",
     "frag_number": 80
    },
    "slideshow": {
     "slide_type": "fragment"
    }
   },
   "source": [
    "So what is the most efficient way to compute $A^2{\\bf x}$?"
   ]
  },
  {
   "cell_type": "markdown",
   "metadata": {
    "internals": {
     "frag_helper": "fragment_end",
     "frag_number": 81,
     "slide_helper": "subslide_end"
    },
    "slide_helper": "slide_end",
    "slideshow": {
     "slide_type": "fragment"
    }
   },
   "source": [
    "1. First compute $A^2$, then compute $A^2{\\bf x}$: $2n^3 + 2n^2.$\n",
    "2. First compute $A{\\bf x}$, then compute $A(A{\\bf x}) = 2 \\cdot 2n^2 = 4n^2.$"
   ]
  },
  {
   "cell_type": "markdown",
   "metadata": {
    "internals": {
     "frag_helper": "fragment_end",
     "frag_number": 81,
     "slide_type": "subslide"
    },
    "slideshow": {
     "slide_type": "slide"
    }
   },
   "source": [
    "__Parallelization.__\n",
    "\n",
    "Although matrix multiplication is computationally demanding, it has a wonderful property: it is _highly parallel_.  That is, the computation needed for each element does not require computing the other elements.  \n",
    "\n",
    "(This is not true, for example, for Gaussian elimination; think about the role of a pivot.)"
   ]
  },
  {
   "cell_type": "markdown",
   "metadata": {
    "internals": {
     "frag_helper": "fragment_end",
     "frag_number": 83
    },
    "slideshow": {
     "slide_type": "fragment"
    }
   },
   "source": [
    "This means that if we have multiple processors, and each has access to $A$ and $B$, the work can be divided up very cleanly.\n",
    "\n",
    "For example, let's say you have $n$ processors.   Then each processor can independently compute one column of the result, without needing to know anything about what the other processors are doing.  \n",
    "\n",
    "Specifically, processor $i$ can compute its column as $A{\\bf b_i}$.  \n",
    "\n",
    "In that case, since all processors are working in parallel, the elapsed time is reduced to $2n^2.$"
   ]
  },
  {
   "cell_type": "markdown",
   "metadata": {
    "internals": {
     "frag_helper": "fragment_end",
     "frag_number": 84,
     "slide_helper": "subslide_end"
    },
    "slide_helper": "slide_end",
    "slideshow": {
     "slide_type": "fragment"
    }
   },
   "source": [
    "Even better, say you have $n^2$ processors.  Then each processor can compute a single element of the result, \n",
    "$(AB)_{ij}$ as $\\sum_{k=1}^n A_{ik}B_{kj}$.  Then the elapsed time is reduced to $2n$.  \n",
    "\n",
    "This sort of strategy is used for huge computations like web search and weather modeling."
   ]
  },
  {
   "cell_type": "markdown",
   "metadata": {
    "internals": {
     "frag_helper": "fragment_end",
     "frag_number": 84,
     "slide_type": "subslide"
    },
    "slideshow": {
     "slide_type": "slide"
    }
   },
   "source": [
    "__Libraries.__\n",
    "\n",
    "The importance of matrix multiplication in practice means that very efficient and carefully constructed libraries have been developed for it.\n",
    "\n",
    "An important issue for high performance is how the matrices are actually laid out in memory, and the order in which matrix elements are accessed.  \n",
    "\n",
    "The premier library is called LAPACK. LAPACK has been developed over the past 40 years and is updated frequently to tune it for new computer hardware.  "
   ]
  },
  {
   "cell_type": "markdown",
   "metadata": {
    "internals": {
     "frag_helper": "fragment_end",
     "frag_number": 86,
     "slide_helper": "subslide_end"
    },
    "slide_helper": "slide_end",
    "slideshow": {
     "slide_type": "fragment"
    }
   },
   "source": [
    "Python's \"numpy\" uses LAPACK under the hood for its matrix computations.\n",
    "\n",
    "Hence, even though Python is an interpreted language, for doing intensive matrix computations it is very fast, just as fast as compiled code."
   ]
  }
 ],
 "metadata": {
  "celltoolbar": "Slideshow",
  "kernelspec": {
   "display_name": "Python 3",
   "language": "python",
   "name": "python3"
  },
  "language_info": {
   "codemirror_mode": {
    "name": "ipython",
    "version": 3
   },
   "file_extension": ".py",
   "mimetype": "text/x-python",
   "name": "python",
   "nbconvert_exporter": "python",
   "pygments_lexer": "ipython3",
   "version": "3.4.3"
  }
 },
 "nbformat": 4,
 "nbformat_minor": 0
}
