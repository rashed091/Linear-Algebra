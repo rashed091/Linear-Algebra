{
 "cells": [
  {
   "cell_type": "markdown",
   "metadata": {
    "internals": {
     "slide_type": "subslide"
    },
    "slideshow": {
     "slide_type": "slide"
    }
   },
   "source": [
    "# The Characteristic Equation"
   ]
  },
  {
   "cell_type": "code",
   "execution_count": 14,
   "metadata": {
    "collapsed": false,
    "internals": {},
    "slideshow": {
     "slide_type": "skip"
    }
   },
   "outputs": [
    {
     "name": "stdout",
     "output_type": "stream",
     "text": [
      "\n"
     ]
    }
   ],
   "source": [
    "%matplotlib inline\n",
    "%config InlineBackend.figure_format='retina'\n",
    "# import libraries\n",
    "import numpy as np\n",
    "import matplotlib as mp\n",
    "import pandas as pd\n",
    "import matplotlib.pyplot as plt\n",
    "import laUtilities as ut\n",
    "import slideUtilities as sl\n",
    "import demoUtilities as dm\n",
    "import pandas as pd\n",
    "from importlib import reload\n",
    "from datetime import datetime\n",
    "from IPython.display import Image\n",
    "from IPython.display import display_html\n",
    "from IPython.display import display\n",
    "from IPython.display import Math\n",
    "from IPython.display import Latex\n",
    "from IPython.display import HTML\n",
    "reload(sl)\n",
    "print('')"
   ]
  },
  {
   "cell_type": "code",
   "execution_count": 15,
   "metadata": {
    "collapsed": false,
    "internals": {},
    "slideshow": {
     "slide_type": "skip"
    }
   },
   "outputs": [
    {
     "data": {
      "text/html": [
       "<style>\n",
       " .container.slides .celltoolbar, .container.slides .hide-in-slideshow {\n",
       "    display: None ! important;\n",
       "}\n",
       "</style>"
      ],
      "text/plain": [
       "<IPython.core.display.HTML object>"
      ]
     },
     "metadata": {},
     "output_type": "display_data"
    }
   ],
   "source": [
    "%%html\n",
    "<style>\n",
    " .container.slides .celltoolbar, .container.slides .hide-in-slideshow {\n",
    "    display: None ! important;\n",
    "}\n",
    "</style>"
   ]
  },
  {
   "cell_type": "markdown",
   "metadata": {
    "internals": {},
    "slideshow": {
     "slide_type": "skip"
    }
   },
   "source": [
    "%Set up useful MathJax (Latex) macros.\n",
    "%See http://docs.mathjax.org/en/latest/tex.html#defining-tex-macros\n",
    "%These are for use in the slideshow\n",
    "$\\newcommand{\\mat}[1]{\\left[\\begin{array}#1\\end{array}\\right]}$\n",
    "$\\newcommand{\\vx}{{\\mathbf x}}$\n",
    "$\\newcommand{\\hx}{\\hat{\\mathbf x}}$\n",
    "$\\newcommand{\\vbt}{{\\mathbf\\beta}}$\n",
    "$\\newcommand{\\vy}{{\\mathbf y}}$\n",
    "$\\newcommand{\\vz}{{\\mathbf z}}$\n",
    "$\\newcommand{\\R}{{\\mathbb{R}}}$\n",
    "$\\newcommand{\\vu}{{\\mathbf u}}$\n",
    "$\\newcommand{\\vv}{{\\mathbf v}}$\n",
    "$\\newcommand{\\vw}{{\\mathbf w}}$\n",
    "$\\newcommand{\\col}{{\\operatorname{Col}}}$\n",
    "$\\newcommand{\\nul}{{\\operatorname{Nul}}}$\n",
    "$\\newcommand{\\vb}{{\\mathbf b}}$\n",
    "$\\newcommand{\\va}{{\\mathbf a}}$\n",
    "$\\newcommand{\\ve}{{\\mathbf e}}$\n",
    "$\\newcommand{\\setb}{{\\mathcal{B}}}$\n",
    "$\\newcommand{\\rank}{{\\operatorname{rank}}}$\n",
    "$\\newcommand{\\vp}{{\\mathbf p}}$"
   ]
  },
  {
   "cell_type": "raw",
   "metadata": {
    "internals": {
     "slide_helper": "subslide_end"
    },
    "slide_helper": "slide_end",
    "slideshow": {
     "slide_type": "skip"
    }
   },
   "source": [
    "\\newcommand{\\mat}[1]{\\left[\\begin{array}#1\\end{array}\\right]}\n",
    "\\newcommand{\\vx}{{\\mathbf x}}\n",
    "\\newcommand{\\hx}{\\hat{\\mathbf x}}\n",
    "\\newcommand{\\vbt}{{\\mathbf\\beta}}\n",
    "\\newcommand{\\vy}{{\\mathbf y}}\n",
    "\\newcommand{\\vz}{{\\mathbf z}}\n",
    "\\newcommand{\\vb}{{\\mathbf b}}\n",
    "\\newcommand{\\vu}{{\\mathbf u}}\n",
    "\\newcommand{\\vv}{{\\mathbf v}}\n",
    "\\newcommand{\\vw}{{\\mathbf w}}\n",
    "\\newcommand{\\va}{{\\mathbf a}}\n",
    "\\newcommand{\\ve}{{\\mathbf e}}\n",
    "\\newcommand{\\vp}{{\\mathbf p}}\n",
    "\\newcommand{\\R}{{\\mathbb{R}}}\n",
    "\\newcommand{\\col}{{\\operatorname{Col}}}\n",
    "\\newcommand{\\nul}{{\\operatorname{Nul}}}\n",
    "\\newcommand{\\rank}{{\\operatorname{rank}}}\n",
    "\\newcommand{\\setb}{{\\mathcal{B}}}"
   ]
  },
  {
   "cell_type": "markdown",
   "metadata": {
    "slideshow": {
     "slide_type": "slide"
    }
   },
   "source": [
    "We continue our study of _linear dynamical systems_, systems that evolve according to the equation:\n",
    "\n",
    "$$\\vx_{k+1} = A\\vx_k.$$"
   ]
  },
  {
   "cell_type": "code",
   "execution_count": 16,
   "metadata": {
    "collapsed": false,
    "scrolled": true,
    "slideshow": {
     "slide_type": "slide"
    }
   },
   "outputs": [
    {
     "data": {
      "text/html": [
       "<div id=\"90e14bc257902e43\"></div>\n",
       "    <script type=\"text/javascript\">\n",
       "        $(function(){\n",
       "            var p = $(\"#90e14bc257902e43\");\n",
       "            if (p.length==0) return;\n",
       "\n",
       "            while (!p.hasClass(\"cell\")) {\n",
       "                p=p.parent();\n",
       "\n",
       "                if (p.prop(\"tagName\") ==\"body\") return;\n",
       "            }\n",
       "            var cell = p;\n",
       "            cell.find(\".input\").addClass(\"hide-in-slideshow\")\n",
       "        });\n",
       "    </script>"
      ]
     },
     "metadata": {},
     "output_type": "display_data"
    },
    {
     "name": "stdout",
     "output_type": "stream",
     "text": [
      "A = \n",
      " [[ 0.99500417 -0.09983342]\n",
      " [ 0.09983342  0.99500417]]\n"
     ]
    },
    {
     "data": {
      "text/html": [
       "<video controls>\n",
       " <source src=\"data:video/x-m4v;base64,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\" type=\"video/mp4\">\n",
       " Your browser does not support the video tag.\n",
       "</video>"
      ],
      "text/plain": [
       "<IPython.core.display.HTML object>"
      ]
     },
     "execution_count": 16,
     "metadata": {},
     "output_type": "execute_result"
    },
    {
     "data": {
      "image/png": "[encoded data removed]",
      "text/plain": [
       "<matplotlib.figure.Figure at 0x1123824a8>"
      ]
     },
     "metadata": {
      "image/png": {
       "height": 255,
       "width": 379
      }
     },
     "output_type": "display_data"
    }
   ],
   "source": [
    "sl.hide_code_in_slideshow()\n",
    "import matplotlib.animation as animation\n",
    "A = np.array([[np.cos(0.1),-np.sin(0.1)],[ np.sin(0.1),np.cos(0.1)]])\n",
    "# A = np.array([[1.1, 0],[0, 0.9]])\n",
    "# A = np.array([[0.8, 0.5],[-0.1, 1.0]])\n",
    "\n",
    "# we are putting x into an array so that it can be read inside the\n",
    "# animate() closure.   Currently can only read env variables in a closure\n",
    "x = [np.array([1,500.])]\n",
    "\n",
    "fig = plt.figure()\n",
    "ax = plt.axes(xlim=(-500,500),ylim=(-500,500))\n",
    "plt.plot(-500, -500,'')\n",
    "plt.plot(500, 500,'')\n",
    "plt.axis('equal')\n",
    "\n",
    "lines = ax.plot([],[],'o-')\n",
    "\n",
    "xvals = []\n",
    "yvals = []\n",
    "\n",
    "# this is the routine that will be called on each timestep\n",
    "def animate(i):\n",
    "    newx = A.dot(x[0])\n",
    "    plt.plot([x[0][0],newx[0]],[x[0][1],newx[1]],'r-')\n",
    "    plt.plot(newx[0],newx[1],'ro')\n",
    "    x[0] = newx\n",
    "    xvals.append(x[0][0])\n",
    "    yvals.append(x[0][1])\n",
    "    lines[0].set_data(xvals,yvals)\n",
    "    fig.canvas.draw()\n",
    "\n",
    "print('A = \\n',A)\n",
    "# instantiate the animator.\n",
    "# we are animating at 3Hz\n",
    "anim = animation.FuncAnimation(fig, animate, \n",
    "                                    frames=75, interval=1000, repeat=False, blit=False)\n",
    "# this function requires ffmpeg to be installed on your system\n",
    "sl.display_animation(anim)"
   ]
  },
  {
   "cell_type": "markdown",
   "metadata": {
    "slideshow": {
     "slide_type": "fragment"
    }
   },
   "source": [
    "In the last lecture we saw that, if we know an eigenvalue $\\lambda$ of a matrix $A,$ then computing the corresponding eigenspace can be done by constructing a basis for $\\nul\\ (A-\\lambda I).$"
   ]
  },
  {
   "cell_type": "markdown",
   "metadata": {
    "slideshow": {
     "slide_type": "fragment"
    }
   },
   "source": [
    "Today we'll discuss how to determine the eigenvalues of a matrix $A$."
   ]
  },
  {
   "cell_type": "markdown",
   "metadata": {
    "slideshow": {
     "slide_type": "fragment"
    }
   },
   "source": [
    "The theory will make use of the _determinant_ of a matrix."
   ]
  },
  {
   "cell_type": "markdown",
   "metadata": {
    "slideshow": {
     "slide_type": "fragment"
    }
   },
   "source": [
    "Let's recall that the determinant of a $2\\times 2$ matrix $A = \\mat{{rr}a&b\\\\c&d}$ is $ad-bc.$"
   ]
  },
  {
   "cell_type": "markdown",
   "metadata": {
    "slideshow": {
     "slide_type": "fragment"
    }
   },
   "source": [
    "We also have learned that $A$ is invertible if and only if its determinant is not zero.    (Recall that the inverse of of $A$ is $\\frac{1}{ad-bc}\\mat{{cc}d&-b\\\\-c&a}).$"
   ]
  },
  {
   "cell_type": "markdown",
   "metadata": {
    "slideshow": {
     "slide_type": "fragment"
    }
   },
   "source": [
    "Let's use these facts to help us find the eigenvalues of a $2\\times 2$ matrix."
   ]
  },
  {
   "cell_type": "markdown",
   "metadata": {
    "slideshow": {
     "slide_type": "slide"
    }
   },
   "source": [
    "__Example.__  Find the eigenvalues of $A = \\mat{{rr}2&3\\\\3&-6}.$"
   ]
  },
  {
   "cell_type": "markdown",
   "metadata": {
    "slideshow": {
     "slide_type": "fragment"
    }
   },
   "source": [
    "__Solution.__  We must find all scalars $\\lambda$ such that the matrix equation\n",
    "\n",
    "$$(A-\\lambda I)\\vx = {\\bf 0}$$\n",
    "\n",
    "has a nontrivial solution.   \n",
    "\n",
    "By the Invertible Matrix Theorem, this problem is equivalent to finding all $\\lambda$ such that the matrix $A-\\lambda I$ is _not_ invertible."
   ]
  },
  {
   "cell_type": "markdown",
   "metadata": {
    "slideshow": {
     "slide_type": "fragment"
    }
   },
   "source": [
    "Now,\n",
    "\n",
    "$$ A - \\lambda I = \\mat{{rr}2&3\\\\3&-6} - \\mat{{rr}\\lambda&0\\\\0&\\lambda} = \\mat{{cc}2-\\lambda&3\\\\3&-6-\\lambda}.$$"
   ]
  },
  {
   "cell_type": "markdown",
   "metadata": {
    "slideshow": {
     "slide_type": "fragment"
    }
   },
   "source": [
    "We know that $A$ is not invertible exactly when its determinant is zero.   "
   ]
  },
  {
   "cell_type": "markdown",
   "metadata": {
    "slideshow": {
     "slide_type": "fragment"
    }
   },
   "source": [
    "So the eigenvalues of $A$ are the solutions of the equation\n",
    "\n",
    "$$\\det(A-\\lambda I) = \\det\\mat{{cc}2-\\lambda&3\\\\3&-6-\\lambda} = 0.$$"
   ]
  },
  {
   "cell_type": "markdown",
   "metadata": {
    "slideshow": {
     "slide_type": "fragment"
    }
   },
   "source": [
    "Since $\\det\\mat{{rr}a&b\\\\c&d} = ad-bc,$ then\n",
    "\n",
    "$$\\det(A-\\lambda I) = (2-\\lambda)(-6-\\lambda)-(3)(3)$$"
   ]
  },
  {
   "cell_type": "markdown",
   "metadata": {
    "slideshow": {
     "slide_type": "fragment"
    }
   },
   "source": [
    "$$ = -12 + 6\\lambda -2\\lambda + \\lambda^2 - 9$$"
   ]
  },
  {
   "cell_type": "markdown",
   "metadata": {
    "slideshow": {
     "slide_type": "fragment"
    }
   },
   "source": [
    "$$= \\lambda^2+4\\lambda-21$$"
   ]
  },
  {
   "cell_type": "markdown",
   "metadata": {
    "slideshow": {
     "slide_type": "fragment"
    }
   },
   "source": [
    "$$=(\\lambda-3)(\\lambda + 7)$$"
   ]
  },
  {
   "cell_type": "markdown",
   "metadata": {
    "collapsed": true,
    "slideshow": {
     "slide_type": "fragment"
    }
   },
   "source": [
    "If $\\det(A-\\lambda I) = 0,$ then $\\lambda = 3$ or $\\lambda = 7.$  So the eigenvalues of $A$ are $3$ and $-7$."
   ]
  },
  {
   "cell_type": "markdown",
   "metadata": {
    "slideshow": {
     "slide_type": "slide"
    }
   },
   "source": [
    "## Question Time! Q17.1"
   ]
  },
  {
   "cell_type": "markdown",
   "metadata": {
    "slideshow": {
     "slide_type": "slide"
    }
   },
   "source": [
    "The same idea works for $n\\times n$ matrices -- but, for that, we need to define a _determinant_ for larger matrices."
   ]
  },
  {
   "cell_type": "markdown",
   "metadata": {
    "slideshow": {
     "slide_type": "fragment"
    }
   },
   "source": [
    "__Determinants.__\n",
    "\n",
    "Previously, we've defined a determinant for a $2\\times 2$ matrix.   "
   ]
  },
  {
   "cell_type": "markdown",
   "metadata": {
    "slideshow": {
     "slide_type": "fragment"
    }
   },
   "source": [
    "To find eigenvalues for larger matrices, we need to define the determinant for any sized (ie, $n\\times n$) matrix."
   ]
  },
  {
   "cell_type": "markdown",
   "metadata": {
    "slideshow": {
     "slide_type": "fragment"
    }
   },
   "source": [
    "__Definition.__   Let $A$ be an $n\\times n$ matrix, and let $U$ be any echelon form obtained from $A$ by row replacements and row interchanges (no row scalings), and let $r$ be the number of such row interchanges."
   ]
  },
  {
   "cell_type": "markdown",
   "metadata": {
    "slideshow": {
     "slide_type": "fragment"
    }
   },
   "source": [
    "Then the __determinant__ of $A$, written as $\\det A$, is $(-1)^r$ times the product of the diagonal entries $u_{11},\\dots,u_{nn}$ in $U$."
   ]
  },
  {
   "cell_type": "markdown",
   "metadata": {
    "slideshow": {
     "slide_type": "fragment"
    }
   },
   "source": [
    "If $A$ is invertible, then $u_{11},\\dots,u_{nn}$ are all _pivots_.  "
   ]
  },
  {
   "cell_type": "markdown",
   "metadata": {
    "slideshow": {
     "slide_type": "fragment"
    }
   },
   "source": [
    "If $A$ is not invertible, then at least one diagonal entry is zero, and so the product $u_{11} \\dots u_{nn}$ is zero."
   ]
  },
  {
   "cell_type": "markdown",
   "metadata": {
    "slideshow": {
     "slide_type": "fragment"
    }
   },
   "source": [
    "In other words:\n",
    "\n",
    "$$\\det\\ A = \\left\\{\\begin{array}{ll}(-1)^r\\cdot\\left(\\mbox{product of pivots in $U$}\\right),&\\mbox{when $A$ is invertible}\\\\\n",
    "0,&\\mbox{when $A$ is not invertible}\\end{array}\\right.$$"
   ]
  },
  {
   "cell_type": "markdown",
   "metadata": {
    "slideshow": {
     "slide_type": "fragment"
    }
   },
   "source": [
    "__Example.__  Compute $\\det A$ for $A = \\mat{{rrr}1&5&0\\\\2&4&-1\\\\0&-2&0}.$"
   ]
  },
  {
   "cell_type": "markdown",
   "metadata": {
    "slideshow": {
     "slide_type": "fragment"
    }
   },
   "source": [
    "__Solution.__  The following row reduction uses __one__ row interchange:\n",
    "\n",
    "$$A \\sim \\mat{{rrr}1&5&0\\\\0&-6&-1\\\\0&-2&0} \\sim \\mat{{rrr}1&5&0\\\\0&-2&0\\\\0&-6&-1} \\sim \\mat{{rrr}1&5&0\\\\0&-2&0\\\\0&0&-1}.$$"
   ]
  },
  {
   "cell_type": "markdown",
   "metadata": {
    "slideshow": {
     "slide_type": "fragment"
    }
   },
   "source": [
    "So $\\det A$ equals $(-1)^1(1)(-2)(-1) = (-2).$  "
   ]
  },
  {
   "cell_type": "markdown",
   "metadata": {
    "slideshow": {
     "slide_type": "fragment"
    }
   },
   "source": [
    "The remarkable thing is that __any other__ way of computing the echelon form gives the same determinant.  For example,  this row reduction does not use a row interchange:\n",
    "\n",
    "$$A \\sim \\mat{{rrr}1&5&0\\\\0&-6&-1\\\\0&-2&0} \\sim \\mat{{rrr}1&5&0\\\\0&-6&-1\\\\0&0&1/3}.$$"
   ]
  },
  {
   "cell_type": "markdown",
   "metadata": {
    "slideshow": {
     "slide_type": "fragment"
    }
   },
   "source": [
    "Using this echelon form to compute the determinant yields $(-1)^0(1)(-6)(1/3) = -2,$ the same as before."
   ]
  },
  {
   "cell_type": "markdown",
   "metadata": {
    "slideshow": {
     "slide_type": "slide"
    }
   },
   "source": [
    "## Question Time! Q17.2"
   ]
  },
  {
   "cell_type": "markdown",
   "metadata": {
    "slideshow": {
     "slide_type": "slide"
    }
   },
   "source": [
    "__Invertibility.__"
   ]
  },
  {
   "cell_type": "markdown",
   "metadata": {
    "slideshow": {
     "slide_type": "fragment"
    }
   },
   "source": [
    "The formula for the determinant shows that $A$ is invertible if and only if $\\det A$ is nonzero.   "
   ]
  },
  {
   "cell_type": "markdown",
   "metadata": {
    "slideshow": {
     "slide_type": "fragment"
    }
   },
   "source": [
    "We have __yet another__ part to add to the Invertible Matrix Theorem:"
   ]
  },
  {
   "cell_type": "markdown",
   "metadata": {
    "slideshow": {
     "slide_type": "fragment"
    }
   },
   "source": [
    "Let $A$ be an $n\\times n$ matrix.   Then $A$ is invertible if and only if:\n",
    "\n",
    "1. The number 0 is _not_ an eigenvalue of $A$.\n",
    "2. The determinant of $A$ is _not_ zero."
   ]
  },
  {
   "cell_type": "markdown",
   "metadata": {
    "slideshow": {
     "slide_type": "fragment"
    }
   },
   "source": [
    "Some facts about determinants (proved in the book):\n",
    "\n",
    "1. $\\det AB = (\\det A) (\\det B).$\n",
    "1. $\\det A^T = \\det A.$\n",
    "1. If $A$ is triangular, then $\\det A$ is the product of the entries on the main diagonal of $A$."
   ]
  },
  {
   "cell_type": "markdown",
   "metadata": {
    "slideshow": {
     "slide_type": "slide"
    }
   },
   "source": [
    "## The Characteristic Equation"
   ]
  },
  {
   "cell_type": "markdown",
   "metadata": {
    "slideshow": {
     "slide_type": "fragment"
    }
   },
   "source": [
    "So, $A$ is invertible if and only if $\\det A$ is not zero."
   ]
  },
  {
   "cell_type": "markdown",
   "metadata": {
    "slideshow": {
     "slide_type": "fragment"
    }
   },
   "source": [
    "To return to the question of how to compute eigenvalues of $A,$ recall that $\\lambda$ is an eigenvalue if and only if $(A-\\lambda I)$ is _not_ invertible."
   ]
  },
  {
   "cell_type": "markdown",
   "metadata": {
    "slideshow": {
     "slide_type": "fragment"
    }
   },
   "source": [
    "We capture this fact using the __characteristic equation:__\n",
    "\n",
    "$$\\det(A-\\lambda I) = 0.$$"
   ]
  },
  {
   "cell_type": "markdown",
   "metadata": {
    "slideshow": {
     "slide_type": "fragment"
    }
   },
   "source": [
    "We can conclude that $\\lambda$ is an eigenvalue of an $n\\times n$ matrix $A$ if and only if $\\lambda$ satisfies the characteristic equation $\\det(A-\\lambda I) = 0.$"
   ]
  },
  {
   "cell_type": "markdown",
   "metadata": {
    "slideshow": {
     "slide_type": "fragment"
    }
   },
   "source": [
    "__Example.__  Find the characteristic equation of \n",
    "\n",
    "$$A = \\mat{{rrrr}5&-2&6&-1\\\\0&3&-8&0\\\\0&0&5&4\\\\0&0&0&1}$$"
   ]
  },
  {
   "cell_type": "markdown",
   "metadata": {
    "slideshow": {
     "slide_type": "fragment"
    }
   },
   "source": [
    "__Solution.__  Form $A - \\lambda I,$ and note that $\\det A$ is the product of the entries on the diagonal of $A,$ if $A$ is triangular."
   ]
  },
  {
   "cell_type": "markdown",
   "metadata": {
    "slideshow": {
     "slide_type": "fragment"
    }
   },
   "source": [
    "$$\\det(A-\\lambda I) = \\det\\mat{{cccc}5-\\lambda&-2&6&-1\\\\0&3-\\lambda&-8&0\\\\0&0&5-\\lambda&4\\\\0&0&0&1-\\lambda}$$"
   ]
  },
  {
   "cell_type": "markdown",
   "metadata": {
    "slideshow": {
     "slide_type": "fragment"
    }
   },
   "source": [
    "$$=(5-\\lambda)(3-\\lambda)(5-\\lambda)(1-\\lambda).$$"
   ]
  },
  {
   "cell_type": "markdown",
   "metadata": {
    "slideshow": {
     "slide_type": "fragment"
    }
   },
   "source": [
    "So the characteristic equation is:\n",
    "\n",
    "$$(\\lambda-5)^2(\\lambda-3)(\\lambda-1) = 0.$$"
   ]
  },
  {
   "cell_type": "markdown",
   "metadata": {
    "slideshow": {
     "slide_type": "fragment"
    }
   },
   "source": [
    "Expanding this out we get:\n",
    "\n",
    "$$\\lambda^4 - 14\\lambda^3 + 68 \\lambda^2 - 130\\lambda + 75 = 0.$$"
   ]
  },
  {
   "cell_type": "markdown",
   "metadata": {
    "slideshow": {
     "slide_type": "fragment"
    }
   },
   "source": [
    "Notice that, once again, $\\det(A-\\lambda I)$ is a polynomial in $\\lambda$."
   ]
  },
  {
   "cell_type": "markdown",
   "metadata": {
    "slideshow": {
     "slide_type": "fragment"
    }
   },
   "source": [
    "In fact, for any $n\\times n$ matrix, $\\det(A-\\lambda I)$ is a polynomial of degree $n$, called the __characteristic polynomial__ of $A$."
   ]
  },
  {
   "cell_type": "markdown",
   "metadata": {
    "slideshow": {
     "slide_type": "fragment"
    }
   },
   "source": [
    "We say that the eigenvalue 5 in this example has __multiplicity__ 2, because $(\\lambda -5)$ occures two times as a factor of the characteristic polynomial.   In general, the mutiplicity fo an eigenvalue $\\lambda$ is its multiplicity as a root of the characteristic equation."
   ]
  },
  {
   "cell_type": "markdown",
   "metadata": {
    "slideshow": {
     "slide_type": "slide"
    }
   },
   "source": [
    "__Example.__  The characteristic polynomial of a $6\\times 6$ matrix is $\\lambda^6 - 4\\lambda^5 - 12\\lambda^4.$  Find the eigenvalues and their multiplicity."
   ]
  },
  {
   "cell_type": "markdown",
   "metadata": {
    "slideshow": {
     "slide_type": "fragment"
    }
   },
   "source": [
    "__Solution__  Factor the polynomial\n",
    "\n",
    "$$\\lambda^6 - 4\\lambda^5 - 12\\lambda^4 = \\lambda^4(\\lambda^2-4\\lambda-12) = \\lambda^4(\\lambda-6)(\\lambda+2)$$\n",
    "\n",
    "So the eigenvalues are 0 (with multiplicity 4), 6, and -2."
   ]
  },
  {
   "cell_type": "markdown",
   "metadata": {
    "slideshow": {
     "slide_type": "fragment"
    }
   },
   "source": [
    "Since the characteristic polynomial for an $n\\times n$ matrix has degree $n,$ the equation has $n$ roots, counting multiplicities -- provided complex numbers are allowed."
   ]
  },
  {
   "cell_type": "markdown",
   "metadata": {
    "slideshow": {
     "slide_type": "fragment"
    }
   },
   "source": [
    "Note that even for a real matrix, eigenvalues may sometimes be complex."
   ]
  },
  {
   "cell_type": "markdown",
   "metadata": {
    "slideshow": {
     "slide_type": "fragment"
    }
   },
   "source": [
    "__Practical Issues.__\n",
    "\n",
    "These facts show that there is, in principle, a way to find eigenvalues of any matrix.   However, you need not compute eigenvalues for matrices larger than $2\\times 2$ by hand.   For any matrix $3\\times 3$ or larger, you should use a computer."
   ]
  },
  {
   "cell_type": "markdown",
   "metadata": {
    "slideshow": {
     "slide_type": "slide"
    }
   },
   "source": [
    "## Similarity\n",
    "\n",
    "An important concept for things that come later is the notion of __similar__ matrices."
   ]
  },
  {
   "cell_type": "markdown",
   "metadata": {
    "slideshow": {
     "slide_type": "fragment"
    }
   },
   "source": [
    "__Definition.__ If $A$ and $B$ are $n\\times n$ matrices, then $A$ __is similar to__ $B$ if there is an invertible matrix $P$ sch that $P^{-1}AP = B,$ or, equivalently, $A = PBP^{-1}.$ "
   ]
  },
  {
   "cell_type": "markdown",
   "metadata": {
    "slideshow": {
     "slide_type": "fragment"
    }
   },
   "source": [
    " Similarity is symmetric, so if $A$ is similar to $B$, then $B$ is similar to $A$.  Hence we just say that $A$ and $B$ __are similar.__\n",
    " \n",
    "Changing $A$ into $B$ is called a __similarity transformation.__"
   ]
  },
  {
   "cell_type": "markdown",
   "metadata": {
    "slideshow": {
     "slide_type": "fragment"
    }
   },
   "source": [
    "An important way to think of similarity between $A$ and $B$ is that they __have the same eigenvalues.__"
   ]
  },
  {
   "cell_type": "markdown",
   "metadata": {
    "slideshow": {
     "slide_type": "fragment"
    }
   },
   "source": [
    "__Theorem.__  IF $n\\times n$ matrices $A$ and $B$ are similar, then they have the same characteristic polynomial, and hence the same eigenvalues (with the same multiplicities.)"
   ]
  },
  {
   "cell_type": "markdown",
   "metadata": {
    "slideshow": {
     "slide_type": "fragment"
    }
   },
   "source": [
    "__Proof.__  If $B = P^{-1}AP,$ then\n",
    "\n",
    "$$B - \\lambda I = P^{-1}AP - \\lambda P^{-1}P$$"
   ]
  },
  {
   "cell_type": "markdown",
   "metadata": {
    "slideshow": {
     "slide_type": "fragment"
    }
   },
   "source": [
    "$$ = P^{-1}(AP-\\lambda P)$$"
   ]
  },
  {
   "cell_type": "markdown",
   "metadata": {
    "slideshow": {
     "slide_type": "fragment"
    }
   },
   "source": [
    "$$ = P^{-1}(A-\\lambda I)P$$"
   ]
  },
  {
   "cell_type": "markdown",
   "metadata": {
    "slideshow": {
     "slide_type": "fragment"
    }
   },
   "source": [
    "Now let's construct the characteristic polynomial by taking the determinant:\n",
    "\n",
    "$$\\det(B-\\lambda I) = \\det[P^{-1}(A-\\lambda I)P]$$"
   ]
  },
  {
   "cell_type": "markdown",
   "metadata": {
    "slideshow": {
     "slide_type": "fragment"
    }
   },
   "source": [
    "Using the properties of determinants we discussed earlier, we compute:\n",
    "\n",
    "$$ = \\det(P^{-1})\\cdot\\det(A-\\lambda I)\\cdot\\det(P).$$"
   ]
  },
  {
   "cell_type": "markdown",
   "metadata": {
    "slideshow": {
     "slide_type": "fragment"
    }
   },
   "source": [
    "Since $\\det(P^{-1})\\cdot\\det(P) = \\det(P^{-1}P) = \\det I = 1,$ we can see that \n",
    "\n",
    "$$\\det(B-\\lambda I) = \\det(A - \\lambda I).$$"
   ]
  },
  {
   "cell_type": "markdown",
   "metadata": {
    "slideshow": {
     "slide_type": "slide"
    }
   },
   "source": [
    "## Question Time! Q17.3"
   ]
  },
  {
   "cell_type": "markdown",
   "metadata": {
    "slideshow": {
     "slide_type": "slide"
    }
   },
   "source": [
    "## Markov Chains\n",
    "\n",
    "Let's return to the problem of solving a Markov Chain.  "
   ]
  },
  {
   "cell_type": "markdown",
   "metadata": {
    "slideshow": {
     "slide_type": "fragment"
    }
   },
   "source": [
    "At this point, we can place the theory of Markov Chains into the broader context of eigenvalues and eigenvectors."
   ]
  },
  {
   "cell_type": "markdown",
   "metadata": {
    "slideshow": {
     "slide_type": "fragment"
    }
   },
   "source": [
    "__Theorem.__ The largest eigenvalue of a Markov Chain is 1."
   ]
  },
  {
   "cell_type": "markdown",
   "metadata": {
    "slideshow": {
     "slide_type": "fragment"
    }
   },
   "source": [
    "__Proof.__ It is obvious that 1 is an eigenvalue of a Markov chain since we know that every Markov Chain $A$ has a steady-state vector $\\vv$ such that $A\\vv = \\vv.$|"
   ]
  },
  {
   "cell_type": "markdown",
   "metadata": {
    "slideshow": {
     "slide_type": "fragment"
    }
   },
   "source": [
    "To prove that 1 is the largest eigenvalue, recall that each column of a Markov Chain sums to 1. "
   ]
  },
  {
   "cell_type": "markdown",
   "metadata": {
    "slideshow": {
     "slide_type": "fragment"
    }
   },
   "source": [
    "Then, consider the sum of the values in the vector $A\\vx$.\n",
    "\n",
    "$$A\\vx = \\mat{{ccc}a_{11}&\\dots &a_{1n}\\\\\\vdots&\\ddots&\\vdots\\\\a_{n1}&\\dots&a_{nn}}\\mat{{c}x_1\\\\\\vdots\\\\x_n} = \\mat{{c}a_{11}x_1 + \\dots + a_{1n}x_n\\\\\\vdots\\\\ a_{n1}x_1 + \\dots + a_{nn}x_n}.$$"
   ]
  },
  {
   "cell_type": "markdown",
   "metadata": {
    "slideshow": {
     "slide_type": "fragment"
    }
   },
   "source": [
    "Let's just sum the first terms in each component of $A\\vx$: \n",
    "\n",
    "$$ a_{11}x_1 + a_{21}x_1 + \\dots + a_{n1}x_1 = x_1 \\sum_i a_{i1} = x_1. $$"
   ]
  },
  {
   "cell_type": "markdown",
   "metadata": {
    "slideshow": {
     "slide_type": "fragment"
    }
   },
   "source": [
    "So we can see that the sum of all terms in $A\\vx$ is equal to $x_1 + x_2 + \\dots + x_n$ -- i.e., the sum of all terms in $\\vx$.  \n",
    "\n",
    "So there can be no $\\lambda > 1$ such that $A\\vx = \\lambda \\vx.$"
   ]
  },
  {
   "cell_type": "markdown",
   "metadata": {
    "slideshow": {
     "slide_type": "slide"
    }
   },
   "source": [
    "__A complete solution for the evolution of a Markov Chain.__"
   ]
  },
  {
   "cell_type": "markdown",
   "metadata": {
    "slideshow": {
     "slide_type": "fragment"
    }
   },
   "source": [
    "Previously, we were only able to ask about the \"eventual\" steady state of a Markov Chain.  \n",
    "\n",
    "But a crucial question is: __how long does it take__ for a particular Markov Chain to reach steady state from some initial starting condition?"
   ]
  },
  {
   "cell_type": "markdown",
   "metadata": {
    "slideshow": {
     "slide_type": "fragment"
    }
   },
   "source": [
    "Let's use an example: we previously studied the Markov Chain defined by $A = \\mat{{rr}0.95&0.03\\\\0.05&0.97}.$  "
   ]
  },
  {
   "cell_type": "markdown",
   "metadata": {
    "slideshow": {
     "slide_type": "fragment"
    }
   },
   "source": [
    "Let's ask how long until it reaches steady state, from the starting point defined as $\\vx_0 = \\mat{{r}0.6\\\\0.4}.$"
   ]
  },
  {
   "cell_type": "markdown",
   "metadata": {
    "slideshow": {
     "slide_type": "fragment"
    }
   },
   "source": [
    "Using the methods we studied today, we can find the characteristic equation:\n",
    "    \n",
    "$$\\lambda^2 -1.92\\lambda +0.92 $$"
   ]
  },
  {
   "cell_type": "markdown",
   "metadata": {
    "slideshow": {
     "slide_type": "fragment"
    }
   },
   "source": [
    "Using the quadratic formula, we find the roots of this equation to be 1 and 0.92.  (Note that, as expected, 1 is the largest eigenvalue.)"
   ]
  },
  {
   "cell_type": "markdown",
   "metadata": {
    "slideshow": {
     "slide_type": "fragment"
    }
   },
   "source": [
    "Next, using the methods in the previous lecture, we find a basis for each eigenspace of $A$ (each nullspace of $A-\\lambda I$).  \n",
    "\n",
    "For $\\lambda = 1$, a corresponding eigenvector is $\\vv_1 = \\mat{{r}3\\\\5}.$\n",
    "\n",
    "For $\\lambda = 0.92$, a corresponding eigenvector is $\\vv_2 = \\mat{{r}1\\\\-1}.$"
   ]
  },
  {
   "cell_type": "markdown",
   "metadata": {
    "slideshow": {
     "slide_type": "fragment"
    }
   },
   "source": [
    "Next, we write $\\vx_0$ as a linear combination of $\\vv_1$ and $\\vv_2.$  This can be done because $\\{\\vv_1,\\vv_2\\}$ is obviously a basis for $\\R^2.$"
   ]
  },
  {
   "cell_type": "markdown",
   "metadata": {
    "slideshow": {
     "slide_type": "fragment"
    }
   },
   "source": [
    "To write $\\vx_0$ this way, we want to solve the vector equation \n",
    "\n",
    "$$c_1\\vv_1 + c_2\\vv_2 = \\vx_0$$\n",
    "\n",
    "In other words:\n",
    "\n",
    "$$[\\vv_1\\;\\vv_2]\\mat{{r}c_1\\\\c_2} = \\vx_0.$$"
   ]
  },
  {
   "cell_type": "markdown",
   "metadata": {
    "slideshow": {
     "slide_type": "fragment"
    }
   },
   "source": [
    "The matrix $[\\vv_1\\;\\vv_2]$ is invertible, so, \n",
    "\n",
    "$$\\mat{{r}c_1\\\\c_2} = [\\vv_1\\;\\vv_2]^{-1} \\vx_0 = \\mat{{rr}3&1\\\\5&-1}^{-1}\\mat{{r}0.6\\\\0.4}.$$"
   ]
  },
  {
   "cell_type": "markdown",
   "metadata": {
    "slideshow": {
     "slide_type": "fragment"
    }
   },
   "source": [
    "$$ = \\frac{1}{-8}\\mat{{rr}-1&-1\\\\-5&3}\\mat{{r}0.6\\\\0.4} = \\mat{{r}0.125\\\\0.225}.$$"
   ]
  },
  {
   "cell_type": "markdown",
   "metadata": {
    "slideshow": {
     "slide_type": "fragment"
    }
   },
   "source": [
    "So, now we can put it all together.\n",
    "\n",
    "Let's compute each $\\vx_k$:\n",
    "\n",
    "$$\\vx_1 = A\\vx_0 = c_1A\\vv_1 + c_2A\\vv_2$$"
   ]
  },
  {
   "cell_type": "markdown",
   "metadata": {
    "slideshow": {
     "slide_type": "fragment"
    }
   },
   "source": [
    "$$ = c_1\\vv_1 + c_2(0.92)\\vv_2.$$"
   ]
  },
  {
   "cell_type": "markdown",
   "metadata": {
    "slideshow": {
     "slide_type": "fragment"
    }
   },
   "source": [
    "Now note the power of the eigenvalue approach:\n",
    "\n",
    "$$\\vx_2 = A\\vx_1 = c_1A\\vv_1 + c_2(0.92)A\\vv_2$$"
   ]
  },
  {
   "cell_type": "markdown",
   "metadata": {
    "slideshow": {
     "slide_type": "fragment"
    }
   },
   "source": [
    "$$=c_1\\vv_2 + c_2(0.92)^2\\vv_2.$$"
   ]
  },
  {
   "cell_type": "markdown",
   "metadata": {
    "slideshow": {
     "slide_type": "fragment"
    }
   },
   "source": [
    "And so in general:\n",
    "$$\\vx_k = c_1\\vv_1 + c_2(0.92)^k\\vv_2\\;\\;\\;(k = 0, 1, 2, \\dots)$$"
   ]
  },
  {
   "cell_type": "markdown",
   "metadata": {
    "slideshow": {
     "slide_type": "fragment"
    }
   },
   "source": [
    "And using the $c_1$ and $c_2$ and $\\vv_1,$ $\\vv_2$ we computed above:"
   ]
  },
  {
   "cell_type": "markdown",
   "metadata": {
    "slideshow": {
     "slide_type": "fragment"
    }
   },
   "source": [
    "$$\\vx_k = 0.125\\mat{{r}3\\\\5} + 0.225(0.92)^k\\mat{{r}1\\\\-1}\\;\\;\\;(k = 0, 1, 2, \\dots)$$"
   ]
  },
  {
   "cell_type": "markdown",
   "metadata": {
    "slideshow": {
     "slide_type": "fragment"
    }
   },
   "source": [
    "This explicit formula for $\\vx_k$ gives the solution of the Markov Chain $\\vx_{k+1} = A\\vx_k$ starting from the initial state $\\vx_0$."
   ]
  },
  {
   "cell_type": "markdown",
   "metadata": {
    "slideshow": {
     "slide_type": "fragment"
    }
   },
   "source": [
    "As $k\\rightarrow\\infty$, $(0.92)^k\\rightarrow0$.  "
   ]
  },
  {
   "cell_type": "markdown",
   "metadata": {
    "slideshow": {
     "slide_type": "fragment"
    }
   },
   "source": [
    "Thus $\\vx_k \\rightarrow 0.125\\vv_1 = \\mat{{r}0.375\\\\0.625}.$"
   ]
  },
  {
   "cell_type": "code",
   "execution_count": 17,
   "metadata": {
    "collapsed": false,
    "slideshow": {
     "slide_type": "fragment"
    }
   },
   "outputs": [
    {
     "data": {
      "text/html": [
       "<div id=\"8ce35cda25f62c89\"></div>\n",
       "    <script type=\"text/javascript\">\n",
       "        $(function(){\n",
       "            var p = $(\"#8ce35cda25f62c89\");\n",
       "            if (p.length==0) return;\n",
       "\n",
       "            while (!p.hasClass(\"cell\")) {\n",
       "                p=p.parent();\n",
       "\n",
       "                if (p.prop(\"tagName\") ==\"body\") return;\n",
       "            }\n",
       "            var cell = p;\n",
       "            cell.find(\".input\").addClass(\"hide-in-slideshow\")\n",
       "        });\n",
       "    </script>"
      ]
     },
     "metadata": {},
     "output_type": "display_data"
    },
    {
     "name": "stdout",
     "output_type": "stream",
     "text": [
      "\n"
     ]
    },
    {
     "data": {
      "image/png": "[encoded data removed]",
      "text/plain": [
       "<matplotlib.figure.Figure at 0x1125713c8>"
      ]
     },
     "metadata": {
      "image/png": {
       "height": 237,
       "width": 349
      }
     },
     "output_type": "display_data"
    }
   ],
   "source": [
    "sl.hide_code_in_slideshow()\n",
    "ax = ut.plotSetup(-0.1,1.2,-0.1,1.2)\n",
    "ut.centerAxes(ax)\n",
    "A = np.array([[0.95,0.03],[0.05,0.97]])\n",
    "v1 = np.array([0.375,0.625])\n",
    "v2 = np.array([0.225,-0.225])\n",
    "x0 = v1 + v2\n",
    "#\n",
    "ax.plot([1,0],[0,1],'b--')\n",
    "ax.text(v1[0]+0.02,v1[1]+0.02,r'${\\bf v_1}$',size=16)\n",
    "ax.plot(x0[0],x0[1],'bo')\n",
    "v = np.zeros((40,2))\n",
    "for i in range(40):\n",
    "    v[i] = v1+(0.92**i)*v2\n",
    "    ax.plot(v[i,0],v[i,1],'o')\n",
    "ax.text(v[4][0]+0.02,v[4][1]+0.02,r'${\\bf x_4}$',size=12)\n",
    "ax.text(v[10][0]+0.02,v[10][1]+0.02,r'${\\bf x_{10}}$',size=12)\n",
    "ax.text(x0[0]+0.02,x0[1]+0.02,r'${\\bf x_0}$',size=16)\n",
    "ax.plot(v1[0],v1[1],'ro')\n",
    "#ax.text(A.dot(x0)[0]+0.2,A.dot(x0)[1]+0.2,r'$A{\\bf x_0}$',size=16)\n",
    "# ax.plot([-10,10],[5*10/6.0,-5*10/6.0],'b-')\n",
    "#\n",
    "ax.annotate('Steady State', xy=(v1[0], v1[1]),  xycoords='data',\n",
    "                xytext=(0.1, 0.2), textcoords='data',\n",
    "                size=15,\n",
    "                #bbox=dict(boxstyle=\"round\", fc=\"0.8\"),\n",
    "                arrowprops={'arrowstyle': 'simple',\n",
    "                                'fc': '0.5', \n",
    "                                'ec': 'none',\n",
    "                                'connectionstyle' : 'arc3,rad=-0.3'},\n",
    "                )\n",
    "ax.annotate('Initial State', xy=(v[0,0], v[0,1]),  xycoords='data',\n",
    "                xytext=(0.4, 0.8), textcoords='data',\n",
    "                size=15,\n",
    "                #bbox=dict(boxstyle=\"round\", fc=\"0.8\"),\n",
    "                arrowprops={'arrowstyle': 'simple',\n",
    "                                'fc': '0.5', \n",
    "                                'ec': 'none',\n",
    "                                'connectionstyle' : 'arc3,rad=-0.3'},\n",
    "                )\n",
    "print('')"
   ]
  }
 ],
 "metadata": {
  "celltoolbar": "Slideshow",
  "kernelspec": {
   "display_name": "Python 3",
   "language": "python",
   "name": "python3"
  },
  "language_info": {
   "codemirror_mode": {
    "name": "ipython",
    "version": 3
   },
   "file_extension": ".py",
   "mimetype": "text/x-python",
   "name": "python",
   "nbconvert_exporter": "python",
   "pygments_lexer": "ipython3",
   "version": "3.4.3"
  }
 },
 "nbformat": 4,
 "nbformat_minor": 0
}
